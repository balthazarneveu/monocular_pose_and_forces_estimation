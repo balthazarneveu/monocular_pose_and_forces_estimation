{
 "cells": [
  {
   "cell_type": "code",
   "execution_count": 1,
   "metadata": {},
   "outputs": [],
   "source": [
    "import time \n",
    "\n",
    "import numpy as np\n",
    "import pinocchio as pin\n",
    "from tqdm import tqdm\n",
    "\n",
    "from projectyl.dynamics.armmodel import ArmRobot\n",
    "from projectyl.dynamics.meshcat_viewer_wrapper import MeshcatVisualizer"
   ]
  },
  {
   "cell_type": "markdown",
   "metadata": {},
   "source": [
    "Let's create a robot arm"
   ]
  },
  {
   "cell_type": "code",
   "execution_count": 2,
   "metadata": {},
   "outputs": [],
   "source": [
    "arm_robot = ArmRobot(upper_arm_length=0.3, forearm_length=0.25)"
   ]
  },
  {
   "cell_type": "code",
   "execution_count": 3,
   "metadata": {},
   "outputs": [
    {
     "name": "stdout",
     "output_type": "stream",
     "text": [
      "You can open the visualizer by visiting the following URL:\n",
      "http://127.0.0.1:7000/static/\n"
     ]
    }
   ],
   "source": [
    "viz = MeshcatVisualizer(arm_robot)\n",
    "viz.display(arm_robot.q0)"
   ]
  },
  {
   "cell_type": "code",
   "execution_count": 4,
   "metadata": {},
   "outputs": [
    {
     "name": "stdout",
     "output_type": "stream",
     "text": [
      "Joint ID: 0\n",
      "Joint Name: universe\n",
      "Joint Type: JointModelRX\n",
      "Parent Joint ID: 0\n",
      "Parent Joint Name: universe\n",
      "\n",
      "Joint ID: 1\n",
      "Joint Name: shoulder\n",
      "Joint Type: JointModelSpherical\n",
      "Parent Joint ID: 0\n",
      "Parent Joint Name: universe\n",
      "\n",
      "Joint ID: 2\n",
      "Joint Name: elbow\n",
      "Joint Type: JointModelRUBY\n",
      "Parent Joint ID: 1\n",
      "Parent Joint Name: shoulder\n",
      "\n"
     ]
    }
   ],
   "source": [
    "# Iterate through all the joints in the robot's model\n",
    "for i in range(arm_robot.model.njoints):\n",
    "    joint_name = arm_robot.model.names[i]\n",
    "    joint_model = arm_robot.model.joints[i]\n",
    "\n",
    "    joint_type = joint_model.shortname()\n",
    "\n",
    "    parent_joint_id = arm_robot.model.parents[i]\n",
    "    parent_joint_name = arm_robot.model.names[parent_joint_id]\n",
    "\n",
    "    # Print joint information\n",
    "    print(\"Joint ID:\", i)\n",
    "    print(\"Joint Name:\", joint_name)\n",
    "    print(\"Joint Type:\", joint_type)\n",
    "    print(\"Parent Joint ID:\", parent_joint_id)\n",
    "    print(\"Parent Joint Name:\", parent_joint_name)\n",
    "    print()"
   ]
  },
  {
   "cell_type": "code",
   "execution_count": 5,
   "metadata": {},
   "outputs": [
    {
     "name": "stdout",
     "output_type": "stream",
     "text": [
      "Frame ID: 0\n",
      "Frame Name: universe\n",
      "Frame Type: FIXED_JOINT\n",
      "Parent Joint ID: 0\n",
      "Parent Joint name: universe\n",
      "\n",
      "Frame ID: 1\n",
      "Frame Name: end_effector\n",
      "Frame Type: OP_FRAME\n",
      "Parent Joint ID: 2\n",
      "Parent Joint name: elbow\n",
      "\n"
     ]
    }
   ],
   "source": [
    "# Iterate through all the frames in the robot's model\n",
    "for i in range(len(arm_robot.model.frames)):\n",
    "    frame = arm_robot.model.frames[i]\n",
    "    parent_joint_id = frame.parent\n",
    "    parent_joint_name = arm_robot.model.names[parent_joint_id]\n",
    "    print(\"Frame ID:\", i)\n",
    "    print(\"Frame Name:\", frame.name)\n",
    "    print(\"Frame Type:\", frame.type)\n",
    "    print(\"Parent Joint ID:\", parent_joint_id)\n",
    "    print(\"Parent Joint name:\", parent_joint_name)\n",
    "    print()"
   ]
  },
  {
   "cell_type": "code",
   "execution_count": 6,
   "metadata": {},
   "outputs": [
    {
     "name": "stdout",
     "output_type": "stream",
     "text": [
      "Initial configuration: [0. 0. 0. 1. 1. 0.]\n",
      "Config dim: 6\n",
      "DoF: 4\n"
     ]
    }
   ],
   "source": [
    "print(\"Initial configuration:\", arm_robot.q0)\n",
    "print(\"Config dim:\", arm_robot.nq)\n",
    "print(\"DoF:\", arm_robot.nv)"
   ]
  },
  {
   "cell_type": "markdown",
   "metadata": {},
   "source": [
    "Test : Random configuration"
   ]
  },
  {
   "cell_type": "code",
   "execution_count": 7,
   "metadata": {},
   "outputs": [],
   "source": [
    "for _ in range(100):\n",
    "    q = pin.randomConfiguration(arm_robot.model)\n",
    "    viz.display(q)\n",
    "    time.sleep(1e-2)"
   ]
  },
  {
   "cell_type": "markdown",
   "metadata": {},
   "source": [
    "Test: Forward Kinematics"
   ]
  },
  {
   "cell_type": "code",
   "execution_count": 8,
   "metadata": {},
   "outputs": [],
   "source": [
    "q = pin.randomConfiguration(arm_robot.model)\n",
    "pin.framesForwardKinematics(arm_robot.model, arm_robot.data, q)\n",
    "\n",
    "# pin.framesForwardKinematics is equivalent to first call ForwardKinematics, then \n",
    "# updateFramePlacements. Here not an issue since we have only one frame, but if \n",
    "# we add more, and we dont need FramePlacements a lot, may be usefull.\n",
    "\n",
    "viz.display(q)"
   ]
  },
  {
   "cell_type": "code",
   "execution_count": 9,
   "metadata": {},
   "outputs": [
    {
     "name": "stdout",
     "output_type": "stream",
     "text": [
      "Joint Name: universe\n",
      "Joint Position in World Frame:   R =\n",
      "1 0 0\n",
      "0 1 0\n",
      "0 0 1\n",
      "  p = 0 0 0\n",
      "\n",
      "\n",
      "Joint Name: shoulder\n",
      "Joint Position in World Frame:   R =\n",
      "-0.237851 -0.738425 -0.630996\n",
      "-0.467139 -0.482607  0.740859\n",
      "-0.851592  0.470976 -0.230158\n",
      "  p = 0 0 1\n",
      "\n",
      "\n",
      "Joint Name: elbow\n",
      "Joint Position in World Frame:   R =\n",
      " 0.667646 -0.738425 0.0947502\n",
      "-0.425096 -0.482607 -0.765757\n",
      " 0.611181  0.470976 -0.636112\n",
      "  p = -0.189299  0.222258  0.930952\n",
      "\n",
      "\n"
     ]
    }
   ],
   "source": [
    "for i in range(arm_robot.model.njoints):\n",
    "    joint_name = arm_robot.model.names[i]\n",
    "    joint_position = arm_robot.data.oMi[i]\n",
    "    print(\"Joint Name:\", joint_name)\n",
    "    print(\"Joint Position in World Frame:\", joint_position)\n",
    "    print()\n"
   ]
  },
  {
   "cell_type": "code",
   "execution_count": 10,
   "metadata": {},
   "outputs": [
    {
     "name": "stdout",
     "output_type": "stream",
     "text": [
      "Frame Name: universe\n",
      "Frame Position in World Frame:   R =\n",
      "1 0 0\n",
      "0 1 0\n",
      "0 0 1\n",
      "  p = 0 0 0\n",
      "\n",
      "\n",
      "Frame Name: end_effector\n",
      "Frame Position in World Frame:   R =\n",
      " 0.667646 -0.738425 0.0947502\n",
      "-0.425096 -0.482607 -0.765757\n",
      " 0.611181  0.470976 -0.636112\n",
      "  p = -0.165611 0.0308184  0.771924\n",
      "\n",
      "\n"
     ]
    }
   ],
   "source": [
    "for i in range(len(arm_robot.model.frames)):\n",
    "    frame = arm_robot.model.frames[i]\n",
    "    frame_placement = arm_robot.data.oMf[i]\n",
    "    print(\"Frame Name:\", frame.name)\n",
    "    print(\"Frame Position in World Frame:\", frame_placement)\n",
    "    print()"
   ]
  },
  {
   "cell_type": "code",
   "execution_count": 11,
   "metadata": {},
   "outputs": [
    {
     "name": "stdout",
     "output_type": "stream",
     "text": [
      "Relative position of the end effector with respect to the elbow, computed:   R =\n",
      "           1  5.55112e-17 -2.77556e-16\n",
      " 5.55112e-17            1 -1.66533e-16\n",
      "-2.63678e-16 -1.66533e-16            1\n",
      "  p =    0    0 0.25\n",
      "\n",
      "Real value:   R =\n",
      "1 0 0\n",
      "0 1 0\n",
      "0 0 1\n",
      "  p =    0    0 0.25\n",
      "\n"
     ]
    }
   ],
   "source": [
    "# Test: confirm the position of the end effector relative to the elbow\n",
    "joint_id = arm_robot.model.getJointId(\"elbow\")\n",
    "frame_id = arm_robot.model.getFrameId(\"end_effector\")\n",
    "\n",
    "joint_transform = arm_robot.data.oMi[joint_id]\n",
    "frame_transform = arm_robot.data.oMf[frame_id]\n",
    "\n",
    "relative_transform = joint_transform.inverse() * frame_transform\n",
    "print(\"Relative position of the end effector with respect to the elbow, computed:\", relative_transform)\n",
    "print(\"Real value:\", arm_robot.model.frames[frame_id].placement)"
   ]
  },
  {
   "cell_type": "markdown",
   "metadata": {},
   "source": [
    "Test: Inverse Kinematics"
   ]
  },
  {
   "cell_type": "code",
   "execution_count": 35,
   "metadata": {},
   "outputs": [],
   "source": [
    "# Create first a target\n",
    "q = pin.randomConfiguration(arm_robot.model)\n",
    "pin.framesForwardKinematics(arm_robot.model, arm_robot.data, q)\n",
    "\n",
    "target_position_end_effector = arm_robot.data.oMf[frame_id].copy()"
   ]
  },
  {
   "cell_type": "code",
   "execution_count": 36,
   "metadata": {},
   "outputs": [],
   "source": [
    "# Print the target\n",
    "viz.addBox(\"goal\", [.1, .1, .1], [.1, .1, .5, .6])\n",
    "viz.applyConfiguration(\"goal\", target_position_end_effector)"
   ]
  },
  {
   "cell_type": "code",
   "execution_count": 37,
   "metadata": {},
   "outputs": [],
   "source": [
    "# Robot initial position\n",
    "q0 = arm_robot.q0\n",
    "DT = 1e-2\n",
    "viz.display(q0)"
   ]
  },
  {
   "cell_type": "code",
   "execution_count": 38,
   "metadata": {},
   "outputs": [
    {
     "name": "stderr",
     "output_type": "stream",
     "text": [
      "100%|██████████| 500/500 [00:05<00:00, 98.51it/s] \n"
     ]
    }
   ],
   "source": [
    "q = q0.copy()\n",
    "\n",
    "for i in tqdm(range(500)):\n",
    "\n",
    "    # end effector frame\n",
    "    pin.framesForwardKinematics(arm_robot.model, arm_robot.data, q)\n",
    "    oMeffector = arm_robot.data.oMf[frame_id]\n",
    "\n",
    "    # Displacement between F_effector and F_goal\n",
    "    effectorMgoal = oMeffector.inverse() * target_position_end_effector\n",
    "\n",
    "    # error between the two\n",
    "    effector_nu = pin.log(effectorMgoal).vector\n",
    "\n",
    "    # Jacobian in the effector frame\n",
    "    effector_Jeffector = pin.computeFrameJacobian(arm_robot.model, arm_robot.data, q, frame_id, pin.LOCAL)\n",
    "\n",
    "    # Control law\n",
    "    vq = np.linalg.pinv(effector_Jeffector) @ effector_nu\n",
    "\n",
    "    # Integrate\n",
    "    q = pin.integrate(arm_robot.model, q, vq*DT)\n",
    "\n",
    "    viz.display(q)\n",
    "    time.sleep(1e-3)"
   ]
  },
  {
   "cell_type": "code",
   "execution_count": 39,
   "metadata": {},
   "outputs": [],
   "source": [
    "# remove target\n",
    "viz.delete(\"goal\")"
   ]
  },
  {
   "cell_type": "markdown",
   "metadata": {},
   "source": [
    "Test: Forward dynamics"
   ]
  },
  {
   "cell_type": "code",
   "execution_count": 77,
   "metadata": {},
   "outputs": [
    {
     "name": "stdout",
     "output_type": "stream",
     "text": [
      "Initial joint position: [-0.40730669  0.59324927  0.69329965 -0.03862855  0.99795106 -0.06398191]\n",
      "Initial joint velocity: [0.29669337 0.28247928 0.41417722 0.94228816]\n",
      "Mass matrix of the robot:\n",
      " [[0.21662102 0.         0.00370401 0.        ]\n",
      " [0.         0.21670466 0.         0.0586565 ]\n",
      " [0.00370401 0.         0.00213365 0.        ]\n",
      " [0.         0.0586565  0.         0.02123333]]\n"
     ]
    }
   ],
   "source": [
    "# Random position, speed and torques of the robot\n",
    "q = pin.randomConfiguration(arm_robot.model)\n",
    "vq = np.random.rand(arm_robot.model.nv)\n",
    "\n",
    "print(\"Initial joint position:\", q)\n",
    "print(\"Initial joint velocity:\", vq)\n",
    "\n",
    "M = pin.crba(arm_robot.model, arm_robot.data, q)\n",
    "\n",
    "print(\"Mass matrix of the robot:\\n\", M)"
   ]
  },
  {
   "cell_type": "code",
   "execution_count": 71,
   "metadata": {},
   "outputs": [],
   "source": [
    "g = arm_robot.gravity(q)"
   ]
  },
  {
   "cell_type": "code",
   "execution_count": 72,
   "metadata": {},
   "outputs": [
    {
     "name": "stdout",
     "output_type": "stream",
     "text": [
      "[ 0.13195617  0.87774071 -0.07065907 -0.45515503  0.79254134  0.60981819]\n"
     ]
    }
   ],
   "source": [
    "print(q)"
   ]
  },
  {
   "cell_type": "code",
   "execution_count": null,
   "metadata": {},
   "outputs": [],
   "source": []
  }
 ],
 "metadata": {
  "kernelspec": {
   "display_name": "venv",
   "language": "python",
   "name": "python3"
  },
  "language_info": {
   "codemirror_mode": {
    "name": "ipython",
    "version": 3
   },
   "file_extension": ".py",
   "mimetype": "text/x-python",
   "name": "python",
   "nbconvert_exporter": "python",
   "pygments_lexer": "ipython3",
   "version": "3.10.12"
  }
 },
 "nbformat": 4,
 "nbformat_minor": 2
}
