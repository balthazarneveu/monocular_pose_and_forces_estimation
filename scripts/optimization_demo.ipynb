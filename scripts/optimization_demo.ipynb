{
 "cells": [
  {
   "cell_type": "code",
   "execution_count": 1,
   "metadata": {},
   "outputs": [],
   "source": [
    "%load_ext autoreload\n",
    "%autoreload 2"
   ]
  },
  {
   "cell_type": "code",
   "execution_count": 2,
   "metadata": {},
   "outputs": [
    {
     "name": "stdout",
     "output_type": "stream",
     "text": [
      "The autoreload extension is already loaded. To reload it, use:\n",
      "  %reload_ext autoreload\n",
      "You can open the visualizer by visiting the following URL:\n",
      "http://127.0.0.1:7000/static/\n"
     ]
    }
   ],
   "source": [
    "import time \n",
    "\n",
    "import numpy as np\n",
    "import matplotlib.pyplot as plt\n",
    "from tqdm import tqdm\n",
    "import pinocchio as pin\n",
    "from scipy.optimize import least_squares\n",
    "from scipy.special import huber\n",
    "from projectyl.utils.properties import ELBOW, SHOULDER, WRIST\n",
    "from projectyl.utils.arm import plot_optimization_curves\n",
    "\n",
    "from projectyl.dynamics.inverse_kinematics import build_arm_model\n",
    "from projectyl.utils.arm import interactive_replay_sequence\n",
    "from projectyl.utils.io import Dump\n",
    "%load_ext autoreload\n",
    "%autoreload 2\n",
    "global_params = {}\n",
    "build_arm_model(global_params, headless=False)\n",
    "arm_robot = global_params[\"arm\"]\n",
    "viz = global_params[\"viz\"]  "
   ]
  },
  {
   "cell_type": "code",
   "execution_count": 57,
   "metadata": {},
   "outputs": [],
   "source": [
    "arm_robot.model.createData()\n",
    "viz.display(arm_robot.q0)"
   ]
  },
  {
   "cell_type": "markdown",
   "metadata": {},
   "source": [
    "TESTS arm moving, random constant acceleration"
   ]
  },
  {
   "cell_type": "code",
   "execution_count": 118,
   "metadata": {},
   "outputs": [],
   "source": [
    "q = arm_robot.q0.copy()\n",
    "vq = np.zeros(arm_robot.model.nv)\n",
    "aq = np.zeros(arm_robot.model.nv)\n",
    "#tauq = np.random.rand(arm_robot.model.nv)\n",
    "viz.display(q)\n",
    "DT = 1e-2\n",
    "\n",
    "T = 30\n",
    "\n",
    "shoulder_frame_id = arm_robot.model.getFrameId(SHOULDER)\n",
    "elbow_frame_id = arm_robot.model.getFrameId(ELBOW)\n",
    "wrist_frame_id = arm_robot.model.getFrameId(WRIST)"
   ]
  },
  {
   "cell_type": "code",
   "execution_count": 119,
   "metadata": {},
   "outputs": [],
   "source": [
    "rec_ground_truth_q = []\n",
    "rec_ground_truth_vq = []\n",
    "rec_ground_truth_aq = []\n",
    "rec_ground_truth_tauq = []\n",
    "rec_ground_truth_shoulder_p = []\n",
    "rec_ground_truth_elbow_p = []\n",
    "rec_ground_truth_wrist_p = []"
   ]
  },
  {
   "cell_type": "code",
   "execution_count": 121,
   "metadata": {},
   "outputs": [],
   "source": [
    "for _ in range(T):\n",
    "    \"\"\"\n",
    "    # Iterative forward dynamics\n",
    "\n",
    "    # Compute mass and non linear effects\n",
    "    M = pin.crba(arm_robot.model, arm_robot.data, q)\n",
    "    b = pin.nle(arm_robot.model, arm_robot.data, q, vq)\n",
    "\n",
    "    # Compute accelleration\n",
    "    aq = np.linalg.solve(M, tauq - b)\n",
    "\n",
    "    vq += aq * DT\n",
    "    q = pin.integrate(arm_robot.model, q, vq * DT)\n",
    "    \"\"\"\n",
    "    tauq = pin.rnea(arm_robot.model, arm_robot.data, q, vq, aq)\n",
    "    viz.display(q)\n",
    "    \n",
    "    # Retrieve 3D points (forward kinematics)\n",
    "    pin.framesForwardKinematics(arm_robot.model, arm_robot.data, q)\n",
    "    shoulder_p = arm_robot.data.oMf[shoulder_frame_id].translation\n",
    "    elbow_p = arm_robot.data.oMf[elbow_frame_id].translation\n",
    "    wrist_p = arm_robot.data.oMf[wrist_frame_id].translation\n",
    "\n",
    "    # Store ground truth var value\n",
    "    rec_ground_truth_q.append(q.copy())\n",
    "    rec_ground_truth_vq.append(vq.copy())\n",
    "    rec_ground_truth_aq.append(aq.copy())\n",
    "    rec_ground_truth_tauq.append(tauq.copy())\n",
    "    rec_ground_truth_shoulder_p.append(shoulder_p.copy())\n",
    "    rec_ground_truth_elbow_p.append(elbow_p.copy())\n",
    "    rec_ground_truth_wrist_p.append(wrist_p.copy())\n",
    "\n",
    "    tauq *= 0.1\n",
    "\n",
    "    time.sleep(1e-2)"
   ]
  },
  {
   "cell_type": "code",
   "execution_count": 122,
   "metadata": {},
   "outputs": [],
   "source": [
    "# We will feed the optimiser with the following parameters\n",
    "# ground_truth_p = [p_shoulder_1, p_elbow_1, p_wrist_1, ..., p_shoulder_T, p_elbow_T, p_wrist_T], T and nq\n",
    "# The optimisation variable is\n",
    "# [q_1, q_2, ..., q_T, tauq_3, tauq_4, ..., tauq_T-2]\n",
    "\n",
    "ground_truth_p = np.concatenate([np.concatenate([rec_ground_truth_shoulder_p[i], rec_ground_truth_elbow_p[i], rec_ground_truth_wrist_p[i]]) for i in range(T)])\n",
    "\n",
    "# Simple case here : we feed the \"exact\" solution to the optimiser\n",
    "initial_optim_var = np.concatenate(rec_ground_truth_q + rec_ground_truth_tauq[2:-2])\n"
   ]
  },
  {
   "cell_type": "markdown",
   "metadata": {},
   "source": [
    "# Utility functions"
   ]
  },
  {
   "cell_type": "code",
   "execution_count": 123,
   "metadata": {},
   "outputs": [],
   "source": [
    "def process_var(var, T, nq):\n",
    "\n",
    "    tq_unnormalized = var[:T * nq].reshape(T, nq) # tq =[q_1, q_2, ..., q_T]\n",
    "    ttauq = var[T * nq:] # ttauq = [tauq_3, tauq_4, ..., tauq_T-2]\n",
    "\n",
    "\n",
    "    # Get tq\n",
    "    shoulder_quaternion_unnormalized = tq_unnormalized[:, :4] # Shouler quaternion 4 premières valeurs de q\n",
    "    elbow_angle = tq_unnormalized[:, 4].reshape(T, 1)\n",
    "\n",
    "    shoulder_quaternion_norm = np.linalg.norm(\n",
    "        shoulder_quaternion_unnormalized, \n",
    "        axis=1,\n",
    "        keepdims=True\n",
    "    )\n",
    "    \n",
    "    shoulder_quaternion_normalized = shoulder_quaternion_unnormalized / shoulder_quaternion_norm\n",
    "\n",
    "    tq = np.concatenate(\n",
    "        (\n",
    "            shoulder_quaternion_normalized, \n",
    "            elbow_angle\n",
    "        ), \n",
    "        axis=1\n",
    "    )\n",
    "\n",
    "    return tq, ttauq"
   ]
  },
  {
   "cell_type": "code",
   "execution_count": 124,
   "metadata": {},
   "outputs": [],
   "source": [
    "def get_velocity_acceleration(tq, T, nv, DT):\n",
    "\n",
    "    tvq = np.empty((T - 2, nv))\n",
    "\n",
    "    # Pourquoi ces opérations ne sont pas vectorizés dans pinocchio ...\n",
    "    for i in range(1, T - 1):\n",
    "        tvq[i - 1] = pin.difference(arm_robot.model, tq[i - 1], tq[i + 1]) / (2 * DT)\n",
    "\n",
    "    taq = (tvq[2:] - tvq[:-2]) / (2 * DT) \n",
    "\n",
    "    return tvq, taq"
   ]
  },
  {
   "cell_type": "code",
   "execution_count": 125,
   "metadata": {},
   "outputs": [],
   "source": [
    "def get_3D_pose_velocity_acceleration(tq, T, DT):\n",
    "    tshoulder_p = np.empty((T, 3)) \n",
    "    telbow_p = np.empty((T, 3)) \n",
    "    twrist_p = np.empty((T, 3))\n",
    "\n",
    "    for i in range(T):\n",
    "        # Forward kinematics\n",
    "        pin.framesForwardKinematics(arm_robot.model, arm_robot.data, tq[i])\n",
    "\n",
    "        # Predicted 3D points\n",
    "        tshoulder_p[i] = arm_robot.data.oMf[shoulder_frame_id].translation\n",
    "        telbow_p[i] = arm_robot.data.oMf[elbow_frame_id].translation\n",
    "        twrist_p[i] = arm_robot.data.oMf[wrist_frame_id].translation\n",
    "    \n",
    "    # Computes speed and acceleration\n",
    "    tshoulder_v = (tshoulder_p[2:] - tshoulder_p[:-2]) / (2 * DT)\n",
    "    telbow_v = (telbow_p[2:] - telbow_p[:-2]) / (2 * DT)\n",
    "    twrist_v = (twrist_p[2:] - twrist_p[:-2]) / (2 * DT)\n",
    "\n",
    "    \n",
    "    tshoulder_a = (tshoulder_v[2:] - tshoulder_v[:-2]) / (2 * DT)\n",
    "    telbow_a = (telbow_v[2:] - telbow_v[:-2]) / (2 * DT)\n",
    "    twrist_a = (twrist_v[2:] - twrist_v[:-2]) / (2 * DT)\n",
    "\n",
    "    return np.concatenate((tshoulder_p, telbow_p, twrist_p), axis=1).flatten(), np.concatenate((tshoulder_v, telbow_v, twrist_v, tshoulder_a, telbow_a, twrist_a), axis=0).flatten()"
   ]
  },
  {
   "cell_type": "markdown",
   "metadata": {},
   "source": [
    "# Cost terms definitions"
   ]
  },
  {
   "cell_type": "code",
   "execution_count": 126,
   "metadata": {},
   "outputs": [],
   "source": [
    "# If the Lagrange dynamics formulation cannote be totally satisfied,\n",
    "# one can relax by minimizing the difference between:\n",
    "# - the Lagrange dynamics torques tau_rec predicited from q, vq and aq.\n",
    "# - the current predicted torques ttauq\n",
    "# question: why not also going backward in time ? ici middle point\n",
    "\n",
    "def full_body_dynamics(tq, tvq, taq, T, nv):\n",
    "    \n",
    "    ttau = np.empty((T - 4, nv))\n",
    "\n",
    "    for i in range(2, T - 2):\n",
    "        ttau[i - 2] = pin.rnea(arm_robot.model, arm_robot.data, tq[i], tvq[i - 1], taq[i - 2])\n",
    "\n",
    "    return ttau.flatten()"
   ]
  },
  {
   "cell_type": "code",
   "execution_count": 127,
   "metadata": {},
   "outputs": [],
   "source": [
    "# Build the cost function\n",
    "def objective(var, observed_p, T, debug=False) -> np.ndarray:\n",
    "    tq, ttauq = process_var(var, T, 5)\n",
    "    tvq, taq = get_velocity_acceleration(tq, T, 4, DT)\n",
    "    tp, tva = get_3D_pose_velocity_acceleration(tq, T, DT)\n",
    "    ttau = full_body_dynamics(tq, tvq, taq, T, 4)\n",
    "\n",
    "\n",
    "    if debug :\n",
    "        print(\"Diff between 3D pose :\", np.linalg.norm(observed_p - tp))\n",
    "        print(\"Smooth acceleration and velocity :\", np.linalg.norm(tva))\n",
    "        print(\"Smooth torque :\", np.linalg.norm(ttauq))\n",
    "        print(\"Dynamics :\", np.linalg.norm(ttau - ttauq))\n",
    "\n",
    "    res = np.concatenate([\n",
    "        observed_p - tp,\n",
    "        0.1 * tva,\n",
    "        0.1 * ttauq,\n",
    "        100 * (ttau - ttauq),\n",
    "    ])\n",
    "\n",
    "    return res"
   ]
  },
  {
   "cell_type": "code",
   "execution_count": 128,
   "metadata": {},
   "outputs": [],
   "source": [
    "#plot_optimization_curves([(gt_sol, \"[gt]\", \"--\"),])"
   ]
  },
  {
   "cell_type": "markdown",
   "metadata": {},
   "source": [
    "# Optimization"
   ]
  },
  {
   "cell_type": "code",
   "execution_count": 129,
   "metadata": {},
   "outputs": [],
   "source": [
    "sol = least_squares(objective, initial_optim_var, args=(ground_truth_p, T), method=\"lm\").x"
   ]
  },
  {
   "cell_type": "code",
   "execution_count": 130,
   "metadata": {},
   "outputs": [
    {
     "name": "stdout",
     "output_type": "stream",
     "text": [
      "Diff between 3D pose : 0.023890935203377334\n",
      "Smooth acceleration and velocity : 6.340367318470504\n",
      "Smooth torque : 22.196441243240805\n",
      "Dynamics : 2.219033086260889e-05\n"
     ]
    },
    {
     "data": {
      "text/plain": [
       "2.3085489634985943"
      ]
     },
     "execution_count": 130,
     "metadata": {},
     "output_type": "execute_result"
    }
   ],
   "source": [
    "np.linalg.norm(objective(sol, ground_truth_p, T, True))"
   ]
  },
  {
   "cell_type": "code",
   "execution_count": 131,
   "metadata": {},
   "outputs": [
    {
     "name": "stdout",
     "output_type": "stream",
     "text": [
      "Diff between 3D pose : 0.0\n",
      "Smooth acceleration and velocity : 0.0\n",
      "Smooth torque : 24.010263085605704\n",
      "Dynamics : 0.0\n"
     ]
    },
    {
     "data": {
      "text/plain": [
       "2.4010263085605708"
      ]
     },
     "execution_count": 131,
     "metadata": {},
     "output_type": "execute_result"
    }
   ],
   "source": [
    "np.linalg.norm(objective(initial_optim_var, ground_truth_p, T, True))"
   ]
  },
  {
   "cell_type": "code",
   "execution_count": 132,
   "metadata": {},
   "outputs": [],
   "source": [
    "#interactive_replay_sequence(\n",
    "#    {\n",
    "#        \"estimated\": res[:, :arm_robot.model.nq],\n",
    "#        \"groundtruth\": gt_sol[:, :arm_robot.model.nq],\n",
    "#    },\n",
    "#    viz\n",
    "#)"
   ]
  },
  {
   "cell_type": "code",
   "execution_count": 133,
   "metadata": {},
   "outputs": [],
   "source": [
    "#plot_optimization_curves([\n",
    "#    (gt_sol, \"[gt]\", \"--\"),\n",
    "#    (res, \"[estimation]\", \"-\"),\n",
    "#    ]\n",
    "#)\n",
    "#plot_optimization_curves([\n",
    "#    (gt_sol, \"[gt]\", \"--\"),\n",
    "#    ]\n",
    "#)\n",
    "\n",
    "#plot_optimization_curves([\n",
    "#    (res, \"[estimation]\", \"-\"),\n",
    "#    ]\n",
    "#)"
   ]
  },
  {
   "cell_type": "code",
   "execution_count": 134,
   "metadata": {},
   "outputs": [],
   "source": [
    "tq, ttauq = process_var(sol, T, 5)"
   ]
  },
  {
   "cell_type": "code",
   "execution_count": 138,
   "metadata": {},
   "outputs": [],
   "source": [
    "for t in range(T):\n",
    "\n",
    "    viz.display(tq[t])\n",
    "\n",
    "    time.sleep(1e-2)"
   ]
  },
  {
   "cell_type": "code",
   "execution_count": 139,
   "metadata": {},
   "outputs": [],
   "source": [
    "tq_gt = np.vstack(rec_ground_truth_q)\n",
    "ttauq_gt = np.vstack(rec_ground_truth_tauq)[2:-2]"
   ]
  },
  {
   "cell_type": "code",
   "execution_count": 140,
   "metadata": {},
   "outputs": [],
   "source": [
    "for t in range(T):\n",
    "    viz.display(tq_gt[t])\n",
    "    time.sleep(1e-2)"
   ]
  },
  {
   "cell_type": "code",
   "execution_count": 141,
   "metadata": {},
   "outputs": [
    {
     "name": "stdout",
     "output_type": "stream",
     "text": [
      "[-4.35404227e+00  2.32268435e-08 -1.63754117e-11  6.39623627e-09]\n",
      "[-4.7088  0.      0.      0.    ]\n"
     ]
    }
   ],
   "source": [
    "t = 10\n",
    "print(ttauq[4 * t: 4 * (t + 1)])\n",
    "print(ttauq_gt[t])"
   ]
  },
  {
   "cell_type": "code",
   "execution_count": null,
   "metadata": {},
   "outputs": [],
   "source": []
  }
 ],
 "metadata": {
  "kernelspec": {
   "display_name": "venv",
   "language": "python",
   "name": "python3"
  },
  "language_info": {
   "codemirror_mode": {
    "name": "ipython",
    "version": 3
   },
   "file_extension": ".py",
   "mimetype": "text/x-python",
   "name": "python",
   "nbconvert_exporter": "python",
   "pygments_lexer": "ipython3",
   "version": "3.10.12"
  }
 },
 "nbformat": 4,
 "nbformat_minor": 2
}
