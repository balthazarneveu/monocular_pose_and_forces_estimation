{
 "cells": [
  {
   "cell_type": "code",
   "execution_count": null,
   "metadata": {},
   "outputs": [],
   "source": [
    "%load_ext autoreload\n",
    "%autoreload 2"
   ]
  },
  {
   "cell_type": "code",
   "execution_count": null,
   "metadata": {},
   "outputs": [],
   "source": [
    "import time \n",
    "\n",
    "import numpy as np\n",
    "import matplotlib.pyplot as plt\n",
    "from tqdm import tqdm\n",
    "import pinocchio as pin\n",
    "from scipy.optimize import least_squares\n",
    "from scipy.special import huber\n",
    "from projectyl.utils.properties import ELBOW, SHOULDER, WRIST\n",
    "from projectyl.utils.arm import plot_optimization_curves\n",
    "\n",
    "from projectyl.dynamics.inverse_kinematics import build_arm_model\n",
    "from projectyl.utils.arm import interactive_replay_sequence\n",
    "from projectyl.utils.io import Dump\n",
    "%load_ext autoreload\n",
    "%autoreload 2\n",
    "global_params = {}\n",
    "build_arm_model(global_params, headless=False)\n",
    "arm_robot = global_params[\"arm\"]\n",
    "viz = global_params[\"viz\"]  "
   ]
  },
  {
   "cell_type": "code",
   "execution_count": null,
   "metadata": {},
   "outputs": [],
   "source": [
    "arm_robot.model.createData()\n",
    "viz.display(arm_robot.q0)"
   ]
  },
  {
   "cell_type": "markdown",
   "metadata": {},
   "source": [
    "TESTS arm moving, random constant acceleration"
   ]
  },
  {
   "cell_type": "code",
   "execution_count": null,
   "metadata": {},
   "outputs": [],
   "source": [
    "q = arm_robot.q0.copy()\n",
    "vq = np.zeros(arm_robot.model.nv)\n",
    "aq = 5 * np.random.rand(arm_robot.model.nv)\n",
    "viz.display(q)\n",
    "DT = 1e-2\n",
    "\n",
    "T = 30\n",
    "\n",
    "rec_gt_sol = []\n",
    "rec_gt_p = []\n",
    "\n",
    "shoulder_frame_id = arm_robot.model.getFrameId(SHOULDER)\n",
    "elbow_frame_id = arm_robot.model.getFrameId(ELBOW)\n",
    "wrist_frame_id = arm_robot.model.getFrameId(WRIST)"
   ]
  },
  {
   "cell_type": "code",
   "execution_count": null,
   "metadata": {},
   "outputs": [],
   "source": [
    "for _ in range(T):\n",
    "    # Iterative forward dynamics\n",
    "    vq += aq * DT\n",
    "    q = pin.integrate(arm_robot.model, q, vq * DT)\n",
    "    tauq = pin.rnea(arm_robot.model, arm_robot.data, q, vq, aq)\n",
    "    \n",
    "    # Retrieve 3D points (forward kinematics)\n",
    "    pin.framesForwardKinematics(arm_robot.model, arm_robot.data, q)\n",
    "    shoulder_p = arm_robot.data.oMf[shoulder_frame_id].translation\n",
    "    elbow_p = arm_robot.data.oMf[elbow_frame_id].translation\n",
    "    end_effector_p = arm_robot.data.oMf[wrist_frame_id].translation\n",
    "\n",
    "    viz.display(q)\n",
    "    # Store ground truth \"solutions\" (q, vq, tau)\n",
    "    xuc = np.concatenate([q, vq, tauq])\n",
    "    rec_gt_sol.append(xuc)\n",
    "    # Store ground truth data (p)\n",
    "    p = np.concatenate([shoulder_p, elbow_p, end_effector_p])\n",
    "    rec_gt_p.append(p)\n",
    "    time.sleep(1e-2)"
   ]
  },
  {
   "cell_type": "code",
   "execution_count": null,
   "metadata": {},
   "outputs": [],
   "source": [
    "np.array(rec_gt_p).shape"
   ]
  },
  {
   "cell_type": "code",
   "execution_count": null,
   "metadata": {},
   "outputs": [],
   "source": [
    "q.shape # 4 +1 DOF elbow\n",
    "vq.shape # 4 =  3(axis angle 3D ~  log map of quaternion 4D ) + 1 DOF elbow\n",
    "tauq.shape # 4 = 3 + 1 \n",
    "xuc.shape # 5 + 4 + 4 = 13  = position + velocity + torque"
   ]
  },
  {
   "cell_type": "code",
   "execution_count": null,
   "metadata": {},
   "outputs": [],
   "source": [
    "gt_sol = np.vstack(rec_gt_sol)\n",
    "gt_p = np.vstack(rec_gt_p)\n",
    "gt_sol.shape, gt_p.shape # T=180 step, 13 \"xuc\" and 9 3D positions\n",
    "# sol = solution...\n",
    "# p = position = oberserved data..."
   ]
  },
  {
   "cell_type": "markdown",
   "metadata": {},
   "source": [
    "# Cost terms definitions"
   ]
  },
  {
   "cell_type": "code",
   "execution_count": null,
   "metadata": {},
   "outputs": [],
   "source": [
    "def get_pose_velocity_from_state(tq_normalized, tvq, T):\n",
    "    # Forward pass\n",
    "    rec_p = []\n",
    "    rec_v = []\n",
    "\n",
    "    for t in range(T):\n",
    "        q = tq_normalized[t]\n",
    "        vq = tvq[t]\n",
    "        # (forward kinematics)\n",
    "        pin.forwardKinematics(arm_robot.model, arm_robot.data, q, vq)\n",
    "        pin.updateFramePlacements(arm_robot.model, arm_robot.data)\n",
    "        # Predicted 3D points -> 3x3 points\n",
    "        shoulder_p = arm_robot.data.oMf[shoulder_frame_id].translation\n",
    "        elbow_p = arm_robot.data.oMf[elbow_frame_id].translation\n",
    "        end_effector_p = arm_robot.data.oMf[wrist_frame_id].translation\n",
    "        # Predicted 3D velocities -> ingnore shoulder 2x3 points\n",
    "        shoulder_v = pin.getFrameVelocity(arm_robot.model, arm_robot.data, shoulder_frame_id, pin.ReferenceFrame.WORLD).linear\n",
    "        elbow_v = pin.getFrameVelocity(arm_robot.model, arm_robot.data, elbow_frame_id, pin.ReferenceFrame.WORLD).linear\n",
    "        end_effector_v = pin.getFrameVelocity(arm_robot.model, arm_robot.data, wrist_frame_id, pin.ReferenceFrame.WORLD).linear\n",
    "\n",
    "        p = np.concatenate([shoulder_p, elbow_p, end_effector_p])\n",
    "        rec_p.append(p)\n",
    "\n",
    "        v = np.concatenate([shoulder_v, elbow_v, end_effector_v])\n",
    "        rec_v.append(v)\n",
    "\n",
    "    tp = np.vstack(rec_p)\n",
    "    tv = np.vstack(rec_v)\n",
    "\n",
    "    ta = (tv[1:] - tv[:-1]) / DT\n",
    "\n",
    "    return tp, tv, ta"
   ]
  },
  {
   "cell_type": "code",
   "execution_count": null,
   "metadata": {},
   "outputs": [],
   "source": [
    "def diff_3D(tp, tp_observed):\n",
    "    diff = tp - tp_observed\n",
    "    diff = diff.flatten()\n",
    "\n",
    "    return diff"
   ]
  },
  {
   "cell_type": "code",
   "execution_count": null,
   "metadata": {},
   "outputs": [],
   "source": [
    "def smooth_velocity_acceleration(tv, ta):\n",
    "\n",
    "    rv = tv.flatten()\n",
    "    ra = ta.flatten()\n",
    "\n",
    "    return np.concatenate([rv, ra])"
   ]
  },
  {
   "cell_type": "code",
   "execution_count": null,
   "metadata": {},
   "outputs": [],
   "source": [
    "def smooth_torque(ttauq):\n",
    "    return ttauq.flatten()"
   ]
  },
  {
   "cell_type": "code",
   "execution_count": null,
   "metadata": {},
   "outputs": [],
   "source": [
    "# If the Lagrange dynamics formulation cannote be totally satisfied,\n",
    "# one can relax by minimizing the difference between:\n",
    "# - the Lagrange dynamics torques tau_rec predicited from q, vq and aq.\n",
    "# - the current predicted torques ttauq\n",
    "# question: why not also going backward in time ?\n",
    "def full_body_dynamics(tq_normalized, tvq, taq, ttauq, T):\n",
    "    \n",
    "    tau_rec = []\n",
    "\n",
    "    for t in range(1, T):\n",
    "        tau = pin.rnea(arm_robot.model, arm_robot.data, tq_normalized[t], tvq[t], taq[t - 1])\n",
    "        # taq[t - 1] ?\n",
    "\n",
    "        tau_rec.append(tau)\n",
    "    \n",
    "    ttau = np.vstack(tau_rec)\n",
    "\n",
    "    diff = ttau - ttauq[1:]\n",
    "    # ttauq[1:] - cannot compute ttau for t=0\n",
    "    \n",
    "    diff = diff.flatten()\n",
    "\n",
    "    return diff"
   ]
  },
  {
   "cell_type": "code",
   "execution_count": null,
   "metadata": {},
   "outputs": [],
   "source": [
    "# Build the cost function\n",
    "def objective(txuc, tp_observed, T, debug=False) -> np.ndarray:\n",
    "    txuc_r = txuc.reshape(T, -1)\n",
    "\n",
    "    tq = txuc_r[:, :arm_robot.model.nq]\n",
    "    norm_quat = np.linalg.norm(tq[:, :-1], axis=1, keepdims=True)\n",
    "    tq_normalized = tq.copy()\n",
    "    tq_normalized[:, :-1] /= norm_quat\n",
    "\n",
    "    tvq = txuc_r[:, arm_robot.model.nq: arm_robot.model.nq + arm_robot.model.nv]\n",
    "\n",
    "    taq = (tvq[1:] - tvq[:-1]) / DT\n",
    "\n",
    "    ttauq = txuc_r[:, arm_robot.model.nq + arm_robot.model.nv:]\n",
    "\n",
    "    tp, tv, ta = get_pose_velocity_from_state(tq_normalized, tvq, T)\n",
    "\n",
    "    # DEBUG\n",
    "    if debug:\n",
    "        print(\"3D joint positions\", np.linalg.norm(diff_3D(tp, tp_observed)))\n",
    "        print(\"Smooth velocity acceleration\", np.linalg.norm(smooth_velocity_acceleration(tv, ta)))\n",
    "        print(\"Smooth torque\", np.linalg.norm(smooth_torque(ttauq)))\n",
    "        print(\"Full body dynamics\", np.linalg.norm(full_body_dynamics(tq_normalized, tvq, taq, ttauq, T)))\n",
    "\n",
    "    res = np.concatenate([\n",
    "        diff_3D(tp, tp_observed),\n",
    "        0.1 * smooth_velocity_acceleration(tv, ta),\n",
    "        0.1 * smooth_torque(ttauq),\n",
    "        10 * full_body_dynamics(tq_normalized, tvq, taq, ttauq, T),\n",
    "    ])\n",
    "\n",
    "    return res"
   ]
  },
  {
   "cell_type": "code",
   "execution_count": null,
   "metadata": {},
   "outputs": [],
   "source": [
    "plot_optimization_curves([(gt_sol, \"[gt]\", \"--\"),])"
   ]
  },
  {
   "cell_type": "code",
   "execution_count": null,
   "metadata": {},
   "outputs": [],
   "source": [
    "gt_sol[:, :arm_robot.model.nq].shape"
   ]
  },
  {
   "cell_type": "code",
   "execution_count": null,
   "metadata": {},
   "outputs": [],
   "source": [
    "interactive_replay_sequence(\n",
    "    {\"groundtruth\":gt_sol[:, :arm_robot.model.nq]},\n",
    "    viz\n",
    ")"
   ]
  },
  {
   "cell_type": "code",
   "execution_count": null,
   "metadata": {},
   "outputs": [],
   "source": [
    "# intialized with ground truth data for angular positions\n",
    "# and 0 for velocity\n",
    "# and 0 for torques\n",
    "q = gt_sol[:, :arm_robot.model.nq]\n",
    "\n",
    "initial = np.concatenate([q, np.zeros((T, 2 * arm_robot.model.nv))], axis=1)"
   ]
  },
  {
   "cell_type": "markdown",
   "metadata": {},
   "source": [
    "# Optimization"
   ]
  },
  {
   "cell_type": "code",
   "execution_count": null,
   "metadata": {},
   "outputs": [],
   "source": [
    "sol = least_squares(objective, initial.flatten(), args=(gt_p, T)).x"
   ]
  },
  {
   "cell_type": "code",
   "execution_count": null,
   "metadata": {},
   "outputs": [],
   "source": [
    "res = sol.reshape(T, -1)"
   ]
  },
  {
   "cell_type": "code",
   "execution_count": null,
   "metadata": {},
   "outputs": [],
   "source": [
    "interactive_replay_sequence(\n",
    "    {\n",
    "        \"estimated\": res[:, :arm_robot.model.nq],\n",
    "        \"groundtruth\": gt_sol[:, :arm_robot.model.nq],\n",
    "    },\n",
    "    viz\n",
    ")"
   ]
  },
  {
   "cell_type": "code",
   "execution_count": null,
   "metadata": {},
   "outputs": [],
   "source": [
    "plot_optimization_curves([\n",
    "    (gt_sol, \"[gt]\", \"--\"),\n",
    "    (res, \"[estimation]\", \"-\"),\n",
    "    ]\n",
    ")\n",
    "plot_optimization_curves([\n",
    "    (gt_sol, \"[gt]\", \"--\"),\n",
    "    ]\n",
    ")\n",
    "\n",
    "plot_optimization_curves([\n",
    "    (res, \"[estimation]\", \"-\"),\n",
    "    ]\n",
    ")"
   ]
  },
  {
   "cell_type": "code",
   "execution_count": null,
   "metadata": {},
   "outputs": [],
   "source": [
    "sol.shape"
   ]
  },
  {
   "cell_type": "code",
   "execution_count": null,
   "metadata": {},
   "outputs": [],
   "source": [
    "print(np.linalg.norm(gt_sol.flatten()- sol.flatten()))"
   ]
  },
  {
   "cell_type": "code",
   "execution_count": null,
   "metadata": {},
   "outputs": [],
   "source": [
    "res = sol.reshape(T, -1)"
   ]
  },
  {
   "cell_type": "code",
   "execution_count": null,
   "metadata": {},
   "outputs": [],
   "source": [
    "np.linalg.norm(objective(sol, gt_p, T, True))"
   ]
  },
  {
   "cell_type": "code",
   "execution_count": null,
   "metadata": {},
   "outputs": [],
   "source": [
    "np.linalg.norm(objective(gt_sol.flatten(), gt_p, T, True))"
   ]
  },
  {
   "cell_type": "code",
   "execution_count": null,
   "metadata": {},
   "outputs": [],
   "source": [
    "tq = res[:, :arm_robot.model.nq]\n",
    "print(tq.shape)\n",
    "norm_quat = np.linalg.norm(tq[:, :-1], axis=1, keepdims=True)\n",
    "tq_normalized = tq.copy()\n",
    "tq_normalized[:, :-1] /= norm_quat\n",
    "\n",
    "tvq = res[:, arm_robot.model.nq: arm_robot.model.nq + arm_robot.model.nv]\n",
    "\n",
    "\n",
    "ttauq = res[:, arm_robot.model.nq + arm_robot.model.nv:]"
   ]
  },
  {
   "cell_type": "code",
   "execution_count": null,
   "metadata": {},
   "outputs": [],
   "source": [
    "for t in range(T):\n",
    "\n",
    "    viz.display(tq_normalized[t])\n",
    "\n",
    "    time.sleep(1e-2)"
   ]
  },
  {
   "cell_type": "code",
   "execution_count": null,
   "metadata": {},
   "outputs": [],
   "source": [
    "for t in range(T):\n",
    "    viz.display(gt_sol[t, :arm_robot.model.nq])\n",
    "    time.sleep(1e-2)"
   ]
  },
  {
   "cell_type": "code",
   "execution_count": null,
   "metadata": {},
   "outputs": [],
   "source": []
  }
 ],
 "metadata": {
  "kernelspec": {
   "display_name": "venv",
   "language": "python",
   "name": "python3"
  },
  "language_info": {
   "codemirror_mode": {
    "name": "ipython",
    "version": 3
   },
   "file_extension": ".py",
   "mimetype": "text/x-python",
   "name": "python",
   "nbconvert_exporter": "python",
   "pygments_lexer": "ipython3",
   "version": "3.10.12"
  }
 },
 "nbformat": 4,
 "nbformat_minor": 2
}
