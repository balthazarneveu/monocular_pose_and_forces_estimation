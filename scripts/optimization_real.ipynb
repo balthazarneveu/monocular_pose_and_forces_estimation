{
 "cells": [
  {
   "cell_type": "markdown",
   "metadata": {},
   "source": [
    "# Inverse dynamics optimization on real data\n",
    "- This notebook is dedicated to testing the optimization process for inverse dynamics \n",
    "- Starting from a rough solution estimated by inverse kinematics\n",
    "- No consideration of 2 projections is considered here (at least yet!)"
   ]
  },
  {
   "cell_type": "code",
   "execution_count": null,
   "metadata": {},
   "outputs": [],
   "source": [
    "import time \n",
    "\n",
    "import numpy as np\n",
    "import matplotlib.pyplot as plt\n",
    "from tqdm import tqdm\n",
    "import pinocchio as pin\n",
    "from scipy.optimize import least_squares\n",
    "from scipy.special import huber\n",
    "from projectyl.utils.properties import ELBOW, SHOULDER, WRIST\n",
    "from projectyl.utils.arm import plot_optimization_curves\n",
    "\n",
    "from projectyl.dynamics.inverse_kinematics import build_arm_model\n",
    "from projectyl.utils.arm import interactive_replay_sequence\n",
    "from projectyl.utils.io import Dump\n",
    "%load_ext autoreload\n",
    "%autoreload 2\n",
    "global_params = {}\n",
    "build_arm_model(global_params, headless=False)\n",
    "arm_robot = global_params[\"arm\"]\n",
    "viz = global_params[\"viz\"]"
   ]
  },
  {
   "cell_type": "markdown",
   "metadata": {},
   "source": [
    "### Load data\n",
    "\n",
    "\n",
    "To load data, you need a preprocessed video file. Assume IK has been performed first.\n",
    "\n",
    "`python scripts/batch_video_processing.py -i \"data/*9_*.mp4\" -o __out -A ik --headless`"
   ]
  },
  {
   "cell_type": "code",
   "execution_count": null,
   "metadata": {},
   "outputs": [],
   "source": [
    "data = Dump.load_pickle(\"../__out/0009_weight_lifting_main_camera_30fps/coarse_ik.pkl\")\n",
    "\n",
    "# INITIAL STATE LIST\n",
    "q = np.array(data[\"q\"])\n",
    "T = len(q)\n",
    "\n",
    "# 3D points\n",
    "p = ([np.array([el.translation for el in data[\"3dpoints\"][member]]).T for member in [SHOULDER, ELBOW, WRIST]])\n",
    "gt_p_full = np.concatenate(p).T\n",
    "gt_p_full.shape #T, 9\n",
    "\n",
    "# initialization from IK estimation\n",
    "initial_full = np.concatenate([q, np.zeros((T, 2 * arm_robot.model.nv))], axis=1)\n",
    "initial_full.shape"
   ]
  },
  {
   "cell_type": "code",
   "execution_count": null,
   "metadata": {},
   "outputs": [],
   "source": [
    "shoulder_frame_id = arm_robot.model.getFrameId(SHOULDER)\n",
    "elbow_frame_id = arm_robot.model.getFrameId(ELBOW)\n",
    "wrist_frame_id = arm_robot.model.getFrameId(WRIST)\n",
    "DT = 1/30. # 30fps"
   ]
  },
  {
   "cell_type": "markdown",
   "metadata": {},
   "source": [
    "### Define the whole optimizer\n",
    "> TODO: Move to a python file instead of notebook"
   ]
  },
  {
   "cell_type": "code",
   "execution_count": null,
   "metadata": {},
   "outputs": [],
   "source": [
    "def get_pose_velocity_from_state(tq_normalized, tvq, T):\n",
    "    # Forward pass\n",
    "    rec_p = []\n",
    "    rec_v = []\n",
    "\n",
    "    for t in range(T):\n",
    "        q = tq_normalized[t]\n",
    "        vq = tvq[t]\n",
    "        # (forward kinematics)\n",
    "        pin.forwardKinematics(arm_robot.model, arm_robot.data, q, vq)\n",
    "        pin.updateFramePlacements(arm_robot.model, arm_robot.data)\n",
    "        # Predicted 3D points -> 3x3 points\n",
    "        shoulder_p = arm_robot.data.oMf[shoulder_frame_id].translation\n",
    "        elbow_p = arm_robot.data.oMf[elbow_frame_id].translation\n",
    "        end_effector_p = arm_robot.data.oMf[wrist_frame_id].translation\n",
    "        # Predicted 3D velocities -> ingnore shoulder 2x3 points\n",
    "        shoulder_v = pin.getFrameVelocity(arm_robot.model, arm_robot.data, shoulder_frame_id, pin.ReferenceFrame.WORLD).linear\n",
    "        elbow_v = pin.getFrameVelocity(arm_robot.model, arm_robot.data, elbow_frame_id, pin.ReferenceFrame.WORLD).linear\n",
    "        end_effector_v = pin.getFrameVelocity(arm_robot.model, arm_robot.data, wrist_frame_id, pin.ReferenceFrame.WORLD).linear\n",
    "\n",
    "        p = np.concatenate([shoulder_p, elbow_p, end_effector_p])\n",
    "        rec_p.append(p)\n",
    "\n",
    "        v = np.concatenate([shoulder_v, elbow_v, end_effector_v])\n",
    "        rec_v.append(v)\n",
    "\n",
    "    tp = np.vstack(rec_p)\n",
    "    tv = np.vstack(rec_v)\n",
    "\n",
    "    ta = (tv[1:] - tv[:-1]) / DT\n",
    "\n",
    "    return tp, tv, ta\n",
    "\n",
    "def diff_3D(tp, tp_observed):\n",
    "    diff = tp - tp_observed\n",
    "    diff = diff.flatten()\n",
    "\n",
    "    return diff\n",
    "\n",
    "def smooth_velocity_acceleration(tv, ta):\n",
    "    rv = tv.flatten()\n",
    "    ra = ta.flatten()\n",
    "\n",
    "    return np.concatenate([rv, ra])\n",
    "\n",
    "def smooth_torque(ttauq):\n",
    "    return ttauq.flatten()\n",
    "\n",
    "# If the Lagrange dynamics formulation cannote be totally satisfied,\n",
    "# one can relax by minimizing the difference between:\n",
    "# - the Lagrange dynamics torques tau_rec predicited from q, vq and aq.\n",
    "# - the current predicted torques ttauq\n",
    "# question: why not also going backward in time ?\n",
    "def full_body_dynamics(tq_normalized, tvq, taq, ttauq, T):\n",
    "    \n",
    "    tau_rec = []\n",
    "\n",
    "    for t in range(1, T):\n",
    "        tau = pin.rnea(arm_robot.model, arm_robot.data, tq_normalized[t], tvq[t], taq[t - 1])\n",
    "        # taq[t - 1] ?\n",
    "\n",
    "        tau_rec.append(tau)\n",
    "    \n",
    "    ttau = np.vstack(tau_rec)\n",
    "\n",
    "    diff = ttau - ttauq[1:]\n",
    "    # ttauq[1:] - cannot compute ttau for t=0\n",
    "    \n",
    "    diff = diff.flatten()\n",
    "\n",
    "    return diff\n",
    "\n",
    "# Build the cost function\n",
    "def objective(txuc, tp_observed, T, debug=False) -> np.ndarray:\n",
    "    txuc_r = txuc.reshape(T, -1)\n",
    "\n",
    "    tq = txuc_r[:, :arm_robot.model.nq]\n",
    "    norm_quat = np.linalg.norm(tq[:, :-1], axis=1, keepdims=True)\n",
    "    tq_normalized = tq.copy()\n",
    "    tq_normalized[:, :-1] /= norm_quat\n",
    "\n",
    "    tvq = txuc_r[:, arm_robot.model.nq: arm_robot.model.nq + arm_robot.model.nv]\n",
    "\n",
    "    taq = (tvq[1:] - tvq[:-1]) / DT\n",
    "\n",
    "    ttauq = txuc_r[:, arm_robot.model.nq + arm_robot.model.nv:]\n",
    "\n",
    "    tp, tv, ta = get_pose_velocity_from_state(tq_normalized, tvq, T)\n",
    "\n",
    "    # DEBUG\n",
    "    if debug:\n",
    "        print(\"3D joint positions\", np.linalg.norm(diff_3D(tp, tp_observed)))\n",
    "        print(\"Smooth velocity acceleration\", np.linalg.norm(smooth_velocity_acceleration(tv, ta)))\n",
    "        print(\"Smooth torque\", np.linalg.norm(smooth_torque(ttauq)))\n",
    "        print(\"Full body dynamics\", np.linalg.norm(full_body_dynamics(tq_normalized, tvq, taq, ttauq, T)))\n",
    "\n",
    "    res = np.concatenate([\n",
    "        diff_3D(tp, tp_observed),\n",
    "        0.1 * smooth_velocity_acceleration(tv, ta),\n",
    "        0.1 * smooth_torque(ttauq),\n",
    "        10 * full_body_dynamics(tq_normalized, tvq, taq, ttauq, T),\n",
    "    ])\n",
    "\n",
    "    return res"
   ]
  },
  {
   "cell_type": "markdown",
   "metadata": {},
   "source": [
    "### Define trimming\n",
    "To process just a piece of the sequence"
   ]
  },
  {
   "cell_type": "code",
   "execution_count": null,
   "metadata": {},
   "outputs": [],
   "source": [
    "### DEFINE TRIMMING\n",
    "trim = 30\n",
    "assert trim < T\n",
    "initial= initial_full[:trim]\n",
    "gt_p = gt_p_full[:trim]\n",
    "assert gt_p.shape[1] ==9\n",
    "assert initial.shape[1] ==13"
   ]
  },
  {
   "cell_type": "markdown",
   "metadata": {},
   "source": [
    "### OPTIMIZE"
   ]
  },
  {
   "cell_type": "code",
   "execution_count": null,
   "metadata": {},
   "outputs": [],
   "source": [
    "sol = least_squares(objective, initial.flatten(), args=(gt_p, trim)).x"
   ]
  },
  {
   "cell_type": "markdown",
   "metadata": {},
   "source": [
    "### VISUALIZE INTERACTIVELY"
   ]
  },
  {
   "cell_type": "code",
   "execution_count": null,
   "metadata": {},
   "outputs": [],
   "source": [
    "res = sol.reshape(trim, -1)\n",
    "interactive_replay_sequence(\n",
    "    {\n",
    "        \"estimated\": res[:, :arm_robot.model.nq],\n",
    "        \"groundtruth\": initial[:, :arm_robot.model.nq],\n",
    "    },\n",
    "    viz\n",
    ")"
   ]
  },
  {
   "cell_type": "markdown",
   "metadata": {},
   "source": [
    "### PLOT CURVES"
   ]
  },
  {
   "cell_type": "code",
   "execution_count": null,
   "metadata": {},
   "outputs": [],
   "source": [
    "plot_optimization_curves([\n",
    "    (initial, \"[gt]\", \"--\"),\n",
    "    ],\n",
    "    title=\"Initial guess\"\n",
    ")\n",
    "plot_optimization_curves([\n",
    "    (res, \"[estimation]\", \"-\"),\n",
    "    ],\n",
    "    title=\"Optimizer prediction\"\n",
    ")"
   ]
  },
  {
   "cell_type": "code",
   "execution_count": null,
   "metadata": {},
   "outputs": [],
   "source": [
    "plot_optimization_curves([\n",
    "    (res, \"[estimation]\", \"-\"),\n",
    "    ],\n",
    "    title=\"Optimizer prediction\",\n",
    "    mode=\"q\"\n",
    ")"
   ]
  }
 ],
 "metadata": {
  "kernelspec": {
   "display_name": "robotics",
   "language": "python",
   "name": "python3"
  },
  "language_info": {
   "codemirror_mode": {
    "name": "ipython",
    "version": 3
   },
   "file_extension": ".py",
   "mimetype": "text/x-python",
   "name": "python",
   "nbconvert_exporter": "python",
   "pygments_lexer": "ipython3",
   "version": "3.10.12"
  }
 },
 "nbformat": 4,
 "nbformat_minor": 2
}
