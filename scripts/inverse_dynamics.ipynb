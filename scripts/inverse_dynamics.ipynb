{
 "cells": [
  {
   "cell_type": "markdown",
   "metadata": {},
   "source": [
    "# Inverse dynamics optimization on real data\n",
    "- This notebook is dedicated to testing the optimization process for inverse dynamics \n",
    "- Starting from a rough solution estimated by inverse kinematics\n",
    "- No consideration of 2 projections is considered here (at least yet!)\n",
    "\n",
    ":+1: Process either real or simulated data"
   ]
  },
  {
   "cell_type": "code",
   "execution_count": null,
   "metadata": {},
   "outputs": [],
   "source": [
    "import time \n",
    "\n",
    "import numpy as np\n",
    "import matplotlib.pyplot as plt\n",
    "from tqdm import tqdm\n",
    "import pinocchio as pin\n",
    "from scipy.optimize import least_squares\n",
    "from scipy.special import huber\n",
    "from projectyl.utils.properties import ELBOW, SHOULDER, WRIST\n",
    "from projectyl.utils.arm import plot_optimization_curves\n",
    "\n",
    "from projectyl.dynamics.inverse_kinematics import build_arm_model\n",
    "from projectyl.utils.arm import interactive_replay_sequence\n",
    "from projectyl.utils.io import Dump\n",
    "\n",
    "from projectyl.dynamics.inverse_dynamics import objective\n",
    "%load_ext autoreload\n",
    "%autoreload 2\n",
    "global_params = {}\n",
    "build_arm_model(global_params, headless=False)\n",
    "arm_robot = global_params[\"arm\"]\n",
    "viz = global_params[\"viz\"]\n",
    "SIMULATION = \"simulation\"\n",
    "REAL = \"real\""
   ]
  },
  {
   "cell_type": "markdown",
   "metadata": {},
   "source": [
    "# :warning: PICK **REAL** or **SIMULATION**"
   ]
  },
  {
   "cell_type": "code",
   "execution_count": null,
   "metadata": {},
   "outputs": [],
   "source": [
    "# PICK UP THE MODE HERE\n",
    "mode = SIMULATION\n",
    "# mode = REAL\n",
    "assert mode in [SIMULATION, REAL]"
   ]
  },
  {
   "cell_type": "markdown",
   "metadata": {},
   "source": [
    "# REAL DATA\n",
    "### Load data\n",
    "\n",
    "\n",
    "To load data, you need a preprocessed video file. Assume IK has been performed first.\n",
    "\n",
    "`python scripts/batch_video_processing.py -i \"data/*9_*.mp4\" -o __out -A ik --headless`"
   ]
  },
  {
   "cell_type": "code",
   "execution_count": null,
   "metadata": {},
   "outputs": [],
   "source": [
    "if mode == REAL:\n",
    "    data = Dump.load_pickle(\"../__out/0009_weight_lifting_main_camera_30fps/coarse_ik.pkl\")\n",
    "\n",
    "    # INITIAL STATE LIST\n",
    "    q = np.array(data[\"q\"])\n",
    "    T = len(q)\n",
    "\n",
    "    # 3D points\n",
    "    p = ([np.array([el.translation for el in data[\"3dpoints\"][member]]).T for member in [SHOULDER, ELBOW, WRIST]])\n",
    "    gt_p_full = np.concatenate(p).T\n",
    "    gt_p_full.shape #T, 9\n",
    "\n",
    "    # initialization from IK estimation\n",
    "    initial_full = np.concatenate([q, np.zeros((T, 2 * arm_robot.model.nv))], axis=1)\n",
    "    initial_full.shape\n",
    "    DT = 1/30. # 30fps"
   ]
  },
  {
   "cell_type": "markdown",
   "metadata": {},
   "source": [
    "# SIMULATION\n"
   ]
  },
  {
   "cell_type": "code",
   "execution_count": null,
   "metadata": {},
   "outputs": [],
   "source": [
    "if mode == SIMULATION:\n",
    "    q = arm_robot.q0.copy()\n",
    "    vq = np.zeros(arm_robot.model.nv)\n",
    "    aq = 5 * np.random.rand(arm_robot.model.nv)\n",
    "    viz.display(q)\n",
    "    DT = 1e-2\n",
    "\n",
    "    T = 30\n",
    "\n",
    "    rec_gt_sol = []\n",
    "    rec_gt_p = []\n",
    "\n",
    "    shoulder_frame_id = arm_robot.model.getFrameId(SHOULDER)\n",
    "    elbow_frame_id = arm_robot.model.getFrameId(ELBOW)\n",
    "    wrist_frame_id = arm_robot.model.getFrameId(WRIST)\n",
    "\n",
    "    for _ in range(T):\n",
    "        # Iterative forward dynamics\n",
    "        vq += aq * DT\n",
    "        q = pin.integrate(arm_robot.model, q, vq * DT)\n",
    "        tauq = pin.rnea(arm_robot.model, arm_robot.data, q, vq, aq)\n",
    "        \n",
    "        # Retrieve 3D points (forward kinematics)\n",
    "        pin.framesForwardKinematics(arm_robot.model, arm_robot.data, q)\n",
    "        shoulder_p = arm_robot.data.oMf[shoulder_frame_id].translation\n",
    "        elbow_p = arm_robot.data.oMf[elbow_frame_id].translation\n",
    "        end_effector_p = arm_robot.data.oMf[wrist_frame_id].translation\n",
    "\n",
    "        viz.display(q)\n",
    "        # Store ground truth \"solutions\" (q, vq, tau)\n",
    "        xuc = np.concatenate([q, vq, tauq])\n",
    "        rec_gt_sol.append(xuc)\n",
    "        # Store ground truth data (p)\n",
    "        p = np.concatenate([shoulder_p, elbow_p, end_effector_p])\n",
    "        rec_gt_p.append(p)\n",
    "        time.sleep(1e-2)\n",
    "\n",
    "    q.shape # 4 +1 DOF elbow\n",
    "    vq.shape # 4 =  3(axis angle 3D ~  log map of quaternion 4D ) + 1 DOF elbow\n",
    "    tauq.shape # 4 = 3 + 1 \n",
    "    xuc.shape # 5 + 4 + 4 = 13  = position + velocity + torque\n",
    "\n",
    "    gt_sol = np.vstack(rec_gt_sol)\n",
    "    gt_p_full = np.vstack(rec_gt_p)\n",
    "    gt_sol.shape, gt_p_full.shape # T=180 step, 13 \"xuc\" and 9 3D positions\n",
    "    # sol = solution...\n",
    "    # p = position = oberserved data...\n",
    "\n",
    "\n",
    "    q = gt_sol[:, :arm_robot.model.nq]\n",
    "\n",
    "    initial_full = np.concatenate([q, np.zeros((T, 2 * arm_robot.model.nv))], axis=1)"
   ]
  },
  {
   "cell_type": "markdown",
   "metadata": {},
   "source": [
    "### Define the whole optimizer\n",
    "> TODO: Move to a python file instead of notebook"
   ]
  },
  {
   "cell_type": "markdown",
   "metadata": {},
   "source": [
    "### Define trimming\n",
    "To process just a piece of the sequence"
   ]
  },
  {
   "cell_type": "code",
   "execution_count": null,
   "metadata": {},
   "outputs": [],
   "source": [
    "### DEFINE TRIMMING\n",
    "trim = 30\n",
    "assert trim <= T\n",
    "initial= initial_full[:trim]\n",
    "gt_p = gt_p_full[:trim]\n",
    "assert gt_p.shape[1] ==9\n",
    "assert initial.shape[1] ==13"
   ]
  },
  {
   "cell_type": "markdown",
   "metadata": {},
   "source": [
    "### OPTIMIZE"
   ]
  },
  {
   "cell_type": "code",
   "execution_count": null,
   "metadata": {},
   "outputs": [],
   "source": [
    "sol = least_squares(objective, initial.flatten(), args=(gt_p, trim, DT, arm_robot)).x\n",
    "res = sol.reshape(trim, -1)"
   ]
  },
  {
   "cell_type": "markdown",
   "metadata": {},
   "source": [
    "### PLOT CURVES"
   ]
  },
  {
   "cell_type": "code",
   "execution_count": null,
   "metadata": {},
   "outputs": [],
   "source": [
    "plot_optimization_curves([\n",
    "    (initial, \"[gt]\", \"--\"),\n",
    "    ],\n",
    "    title=\"Initial guess\"\n",
    ")\n",
    "plot_optimization_curves([\n",
    "    (res, \"[estimation]\", \"-\"),\n",
    "    ],\n",
    "    title=\"Optimizer prediction\"\n",
    ")"
   ]
  },
  {
   "cell_type": "code",
   "execution_count": null,
   "metadata": {},
   "outputs": [],
   "source": [
    "plot_optimization_curves([\n",
    "    (res, \"[estimation]\", \"-\"),\n",
    "    ],\n",
    "    title=\"Optimizer prediction\",\n",
    "    mode=\"q\"\n",
    ")"
   ]
  },
  {
   "cell_type": "markdown",
   "metadata": {},
   "source": [
    "### VISUALIZE INTERACTIVELY"
   ]
  },
  {
   "cell_type": "code",
   "execution_count": null,
   "metadata": {},
   "outputs": [],
   "source": [
    "interactive_replay_sequence(\n",
    "    {\n",
    "        \"estimated\": res[:, :arm_robot.model.nq],\n",
    "        \"groundtruth\": initial[:, :arm_robot.model.nq],\n",
    "    },\n",
    "    viz\n",
    ")"
   ]
  }
 ],
 "metadata": {
  "kernelspec": {
   "display_name": "robotics",
   "language": "python",
   "name": "python3"
  },
  "language_info": {
   "codemirror_mode": {
    "name": "ipython",
    "version": 3
   },
   "file_extension": ".py",
   "mimetype": "text/x-python",
   "name": "python",
   "nbconvert_exporter": "python",
   "pygments_lexer": "ipython3",
   "version": "3.10.12"
  }
 },
 "nbformat": 4,
 "nbformat_minor": 2
}
