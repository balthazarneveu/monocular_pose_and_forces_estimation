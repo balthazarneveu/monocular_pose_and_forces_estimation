{
 "cells": [
  {
   "cell_type": "markdown",
   "metadata": {},
   "source": [
    "# Inverse dynamics optimization on real data\n",
    "- This notebook is dedicated to testing the optimization process for inverse dynamics \n",
    "- Starting from a rough solution estimated by inverse kinematics\n",
    "- No consideration of 2 projections is considered here (at least yet!)\n",
    "\n",
    ":+1: Process either real or simulated data"
   ]
  },
  {
   "cell_type": "code",
   "execution_count": null,
   "metadata": {},
   "outputs": [],
   "source": [
    "import time \n",
    "\n",
    "import numpy as np\n",
    "import matplotlib.pyplot as plt\n",
    "from tqdm import tqdm\n",
    "import pinocchio as pin\n",
    "from scipy.optimize import least_squares\n",
    "from scipy.special import huber\n",
    "from projectyl.utils.properties import ELBOW, SHOULDER, WRIST\n",
    "from projectyl.utils.arm import plot_optimization_curves\n",
    "\n",
    "from projectyl.dynamics.inverse_kinematics import build_arm_model\n",
    "from projectyl.utils.arm import interactive_replay_sequence\n",
    "from projectyl.utils.io import Dump\n",
    "from projectyl.dynamics.inverse_dynamics import objective\n",
    "from projectyl.dynamics.simulation import build_simulation\n",
    "from interactive_pipe.helper import _private\n",
    "_private.registered_controls_names = [] # this is for notebooks where you re-execute cells everytime.\n",
    "\n",
    "SIMULATION = \"simulation\"\n",
    "REAL = \"real\"\n",
    "\n",
    "%load_ext autoreload\n",
    "%autoreload 2\n",
    "global_params = {}\n"
   ]
  },
  {
   "cell_type": "markdown",
   "metadata": {},
   "source": [
    "# :warning: PICK **REAL** or **SIMULATION**"
   ]
  },
  {
   "cell_type": "code",
   "execution_count": null,
   "metadata": {},
   "outputs": [],
   "source": [
    "# PICK SEQUENCE LENGTH HERE\n",
    "T=80\n",
    "# PICK UP THE MODE HERE\n",
    "mode = SIMULATION\n",
    "# mode = REAL\n",
    "assert mode in [SIMULATION, REAL]\n",
    "\n",
    "build_arm_model(global_params, headless=False, free_elbow=False)\n",
    "arm_robot = global_params[\"arm\"]\n",
    "viz = global_params[\"viz\"]"
   ]
  },
  {
   "cell_type": "markdown",
   "metadata": {},
   "source": [
    "# SIMULATION\n"
   ]
  },
  {
   "cell_type": "code",
   "execution_count": null,
   "metadata": {},
   "outputs": [],
   "source": [
    "config = {\n",
    "    \"static\": dict(static=True, friction_coefficient=None, initial_torque_modulation=0.),\n",
    "    \"friction\" : dict(static=False, friction_coefficient=0.1, initial_torque_modulation=0.),\n",
    "    \"free_fall\": dict(static=False, friction_coefficient=0., initial_torque_modulation=0.),\n",
    "}\n",
    "simu_modes = [\"static\", \"friction\", \"free_fall\"] # Pick the scenario you want to simulate here\n",
    "simu_modes = [\"friction\",]\n",
    "if mode == SIMULATION:\n",
    "    for simu_mode in simu_modes:\n",
    "        _private.registered_controls_names = [] # this is for notebooks where you re-execute cells everytime.\n",
    "        # T_ORIGINAL = 30*3\n",
    "        DT = 1e-2\n",
    "        gt_q, gt_vq, gt_aq, gt_tauq, gt_shoulder_p, gt_elbow_p, gt_wrist_p = build_simulation(\n",
    "            arm_robot,\n",
    "            T=T,\n",
    "            DT=DT,\n",
    "            **config[simu_mode])\n",
    "\n",
    "        # We will feed the optimiser with the foµllowing parameters\n",
    "        # ground_truth_p = [p_shoulder_1, p_elbow_1, p_wrist_1, ..., p_shoulder_T, p_elbow_T, p_wrist_T], T and nq\n",
    "        # The optimisation variable is\n",
    "        # [q_1, q_2, ..., q_T, tauq_3, tauq_4, ..., tauq_T-2]\n",
    "\n",
    "        gt_p = np.concatenate([\n",
    "            np.concatenate([\n",
    "                gt_shoulder_p[i], gt_elbow_p[i], gt_wrist_p[i]]\n",
    "            ) for i in range(T)]\n",
    "        )\n",
    "        gt_qt = np.concatenate(gt_q + gt_tauq[2:-2])\n",
    "        initial = gt_qt.copy()\n",
    "        gt_full = np.concatenate([gt_q, gt_tauq], axis=1)\n",
    "        init_res = np.concatenate([gt_q[:T], gt_tauq[:T]], axis=1) # For plots\n",
    "\n",
    "        plot_optimization_curves([\n",
    "            # (estimated_results[2:-2, :], \"[estimated]\", \"--\"),\n",
    "            (gt_full[2:-2, :], \"[groundtruth]\", \"-\", 2),\n",
    "            ],\n",
    "            arm_robot.model.nq,\n",
    "            title=f\"Simulated data: {simu_mode}\",\n",
    "            mode=\"qt\",\n",
    "            fig_size=10\n",
    "        )\n",
    "else:\n",
    "    print(\"Skipped, real data mode\")"
   ]
  },
  {
   "cell_type": "markdown",
   "metadata": {},
   "source": [
    "# REAL DATA\n",
    "### Load data\n",
    "\n",
    "\n",
    "To load data, you need a preprocessed video file. Assume IK has been performed first.\n",
    "\n",
    "`python scripts/batch_video_processing.py -i \"data/*9_*.mp4\" -o __out -A ik --headless`"
   ]
  },
  {
   "cell_type": "code",
   "execution_count": null,
   "metadata": {},
   "outputs": [],
   "source": [
    "if mode == REAL:\n",
    "    data = Dump.load_pickle(\"../__out/0009_weight_lifting_main_camera_30fps/coarse_ik.pkl\")\n",
    "\n",
    "    # INITIAL STATE LIST\n",
    "    q = np.array(data[\"q\"])\n",
    "    if T is None:\n",
    "        T = len(q)\n",
    "\n",
    "    # 3D points\n",
    "    p = ([np.array([el.translation for el in data[\"3dpoints\"][member]]).T for member in [SHOULDER, ELBOW, WRIST]])\n",
    "    print(p[0].shape)\n",
    "    gt_p_full = np.concatenate(p).T\n",
    "    gt_p_full = gt_p_full[:T]\n",
    "    print(\"Final shape\", gt_p_full.shape) #T, 9\n",
    "\n",
    "    # initialization from IK estimation\n",
    "    initial_full = np.concatenate([q[:T].flatten(), np.zeros(((T-4), 4)).flatten()])\n",
    "    initial_full.shape\n",
    "    DT = 1/30. # 30fps\n",
    "    print(initial_full.shape)\n",
    "    initial = initial_full.flatten()\n",
    "    gt_p = gt_p_full.flatten()\n",
    "    init_res = np.concatenate([q[:T], np.zeros((T, 4))], axis=1) # For plots\n",
    "else:\n",
    "    print(\"Skipped, simulation mode\")"
   ]
  },
  {
   "cell_type": "markdown",
   "metadata": {},
   "source": [
    "# OPTIMIZE\n",
    "\n",
    "Note on optimizer costs weights:\n",
    "```\n",
    "- coeffs[0] : data fidelity\n",
    "- coeffs[1] : velocity smoothness\n",
    "- coeffs[2] : acceleration smoothness\n",
    "- coeffs[3] : torque smoothness\n",
    "- coeffs[4] : dynamics\n",
    "```"
   ]
  },
  {
   "cell_type": "code",
   "execution_count": null,
   "metadata": {},
   "outputs": [],
   "source": [
    "debug= False\n",
    "\n",
    "if mode == SIMULATION:\n",
    "    coeffs=[1., 1E-8, 1E-8, 0.01, 2.] # Default config\n",
    "    # coeffs=[1., 1E-8, 1E-8, 0.1, 2.] # Medium torque smoothing - suitable for free fall\n",
    "    # coeffs=[1., 0., 0., 0., 2.] # Not smoothing at all\n",
    "elif mode == REAL:\n",
    "    coeffs=[1., 1E-3, 1E-3, 0.01, 2.]\n",
    "_sol = least_squares(objective, initial.flatten(), args=(gt_p, T, DT, arm_robot), kwargs={\"debug\": debug, \"coeffs\": coeffs}, method='lm').x\n",
    "sol = _sol.copy()\n",
    "# Extract the results\n",
    "# First extract the T * nq configuration states\n",
    "res_q = sol.copy()[:T*arm_robot.model.nq].reshape(T, -1)\n",
    "q_norm = np.linalg.norm(res_q[:, :4], axis=1)\n",
    "res_q[:, :4]/= q_norm.reshape(-1, 1)\n",
    "# Extract the (T-4) * nv torque states\n",
    "res_tauq = sol.copy()[T*arm_robot.model.nq:].reshape((T-4), -1)\n",
    "# Concatenate the two\n",
    "res_tauq = np.concatenate([np.zeros((2, arm_robot.model.nv)), res_tauq, np.zeros((2, arm_robot.model.nv))], axis=0)\n",
    "res_q.shape, res_tauq.shape\n",
    "estimated_results = np.concatenate([res_q, res_tauq], axis=1)\n",
    "# Check the errors\n",
    "print(\">>>>>>> Initial error\", np.linalg.norm(objective(initial, gt_p, T, DT, arm_robot, True)[0]))\n",
    "print(\">>>>>>> Optimization error\", np.linalg.norm(objective(sol, gt_p, T, DT, arm_robot, True)[0]))"
   ]
  },
  {
   "cell_type": "markdown",
   "metadata": {},
   "source": [
    "# Plot curves"
   ]
  },
  {
   "cell_type": "code",
   "execution_count": null,
   "metadata": {},
   "outputs": [],
   "source": [
    "optim_conf = f\"Coefficients: 3D Reprojection term {coeffs[0]:.1e} | Velocity smoothness {coeffs[1]:.1e}\\n\"\n",
    "optim_conf+= f\"Acceleration smoothness {coeffs[2]:.1e}\"\n",
    "optim_conf+= f\" | Torque smoothness {coeffs[3]:.1e} | Dynamics {coeffs[4]:.1e}\"\n",
    "_private.registered_controls_names = [] # this is for notebooks where you re-execute cells everytime.\n",
    "if mode == SIMULATION:\n",
    "    _, reproj, tau_estim = objective(sol, gt_p, T, DT, arm_robot, True)\n",
    "    torque_error = np.linalg.norm(tau_estim.reshape(T-4, -1) - np.array(gt_tauq)[2:-2], axis=1).mean()\n",
    "    print(\"Torque error:\", torque_error)\n",
    "    plot_optimization_curves([\n",
    "        (gt_full[2:-2, :], \"[groundtruth]\", \"--\", 2),\n",
    "        (estimated_results[2:-2, :], \"[estimated]\", \"-\", 1),\n",
    "        ],\n",
    "        arm_robot.model.nq,\n",
    "        title=\"Estimation - \" + f\"Simulation = {simu_mode}\\n{optim_conf}\",\n",
    "        mode=\"qt\",\n",
    "        q_title=f\"\\n3D Reprojection error {reproj:.1e} m\",\n",
    "        t_title=f\"\\nTorque error {torque_error:.1e} N.M\",\n",
    "        fig_size=10\n",
    "    )\n",
    "else:\n",
    "    plot_optimization_curves([\n",
    "    (init_res[2:-2, :], \"[initial]\", \"--\", 2,),\n",
    "    # (gt_full[2:-2, :], \"[groundtruth]\", \"--\"),\n",
    "    (estimated_results[2:-2, :], \"[estimated]\", \"-\", 1),\n",
    "    ],\n",
    "    arm_robot.model.nq,\n",
    "    title=\"Estimation - Real data\",\n",
    "    mode=\"qt\",\n",
    "    fig_size=10\n",
    ")\n"
   ]
  },
  {
   "cell_type": "markdown",
   "metadata": {},
   "source": [
    "# Replay the motion interactively"
   ]
  },
  {
   "cell_type": "code",
   "execution_count": null,
   "metadata": {},
   "outputs": [],
   "source": [
    "sequence_replay = {\n",
    "        \"estimation\": estimated_results[:, :arm_robot.model.nq],\n",
    "        \"initial\": init_res[:, :arm_robot.model.nq],\n",
    "}\n",
    "if mode == SIMULATION:\n",
    "    sequence_replay[\"groundtruth\"] = gt_full[:, :arm_robot.model.nq]\n",
    "interactive_replay_sequence(\n",
    "    sequence_replay,\n",
    "    viz\n",
    ")"
   ]
  }
 ],
 "metadata": {
  "kernelspec": {
   "display_name": "robotics",
   "language": "python",
   "name": "python3"
  },
  "language_info": {
   "codemirror_mode": {
    "name": "ipython",
    "version": 3
   },
   "file_extension": ".py",
   "mimetype": "text/x-python",
   "name": "python",
   "nbconvert_exporter": "python",
   "pygments_lexer": "ipython3",
   "version": "3.10.12"
  }
 },
 "nbformat": 4,
 "nbformat_minor": 2
}
