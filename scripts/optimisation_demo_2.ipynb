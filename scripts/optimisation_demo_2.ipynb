{
 "cells": [
  {
   "cell_type": "code",
   "execution_count": 3,
   "metadata": {},
   "outputs": [
    {
     "name": "stdout",
     "output_type": "stream",
     "text": [
      "The autoreload extension is already loaded. To reload it, use:\n",
      "  %reload_ext autoreload\n",
      "You can open the visualizer by visiting the following URL:\n",
      "http://127.0.0.1:7001/static/\n"
     ]
    }
   ],
   "source": [
    "import time \n",
    "\n",
    "import numpy as np\n",
    "import matplotlib.pyplot as plt\n",
    "from tqdm import tqdm\n",
    "import pinocchio as pin\n",
    "from scipy.optimize import least_squares\n",
    "from scipy.special import huber\n",
    "from projectyl.utils.properties import ELBOW, SHOULDER, WRIST\n",
    "from projectyl.utils.arm import plot_optimization_curves\n",
    "\n",
    "from projectyl.dynamics.inverse_kinematics import build_arm_model\n",
    "from projectyl.utils.arm import interactive_replay_sequence\n",
    "from projectyl.utils.io import Dump\n",
    "from interactive_pipe.helper import _private\n",
    "from typing import List, Tuple, Dict, Any\n",
    "_private.registered_controls_names = [] # this is for notebooks where you re-execute cells everytime.\n",
    "\n",
    "%load_ext autoreload\n",
    "%autoreload 2\n",
    "global_params = {}\n",
    "build_arm_model(global_params, headless=False, free_elbow=True)\n",
    "arm_robot = global_params[\"arm\"]\n",
    "viz = global_params[\"viz\"]  "
   ]
  },
  {
   "cell_type": "code",
   "execution_count": 4,
   "metadata": {},
   "outputs": [],
   "source": [
    "arm_robot.model.createData()\n",
    "viz.display(arm_robot.q0)"
   ]
  },
  {
   "cell_type": "markdown",
   "metadata": {},
   "source": [
    "TESTS arm moving, random constant acceleration"
   ]
  },
  {
   "cell_type": "code",
   "execution_count": 59,
   "metadata": {},
   "outputs": [],
   "source": [
    "data = Dump.load_pickle(\"../__out/0009_weight_lifting_main_camera_30fps/coarse_ik.pkl\")\n",
    "\n",
    "# INITIAL STATE LIST\n",
    "q_reduced = np.array(data[\"q\"])\n",
    "T = 30\n",
    "\n",
    "elbow_angle_cos = np.cos(q_reduced[:, 4])\n",
    "elbow_angle_sin = np.sin(q_reduced[:, 4])\n",
    "\n",
    "\n",
    "q = np.concatenate([q_reduced[:,:4], elbow_angle_cos.reshape(-1, 1), elbow_angle_sin.reshape(-1, 1)], axis=1)\n",
    "\n",
    "ground_truth_q = q[:T].flatten()\n",
    "\n",
    "# 3D points\n",
    "ground_truth_p = np.concatenate([\n",
    "    np.concatenate([\n",
    "        data[\"3dpoints\"][member][t].translation for member in [SHOULDER, ELBOW, WRIST]\n",
    "    ]) \n",
    "    for t in range(T)\n",
    "])\n",
    "\n",
    "# initialization from IK estimation\n",
    "initial = np.concatenate([ground_truth_q, np.zeros((T - 4) * arm_robot.model.nv)])\n",
    "DT = 1/30. # 30fps"
   ]
  },
  {
   "cell_type": "code",
   "execution_count": 95,
   "metadata": {},
   "outputs": [],
   "source": [
    "initial = np.random.random(initial.shape)"
   ]
  },
  {
   "cell_type": "code",
   "execution_count": 96,
   "metadata": {},
   "outputs": [],
   "source": [
    "shoulder_frame_id = arm_robot.model.getFrameId(SHOULDER)\n",
    "elbow_frame_id = arm_robot.model.getFrameId(ELBOW)\n",
    "wrist_frame_id = arm_robot.model.getFrameId(WRIST)"
   ]
  },
  {
   "cell_type": "markdown",
   "metadata": {},
   "source": [
    "# Utility functions"
   ]
  },
  {
   "cell_type": "code",
   "execution_count": 97,
   "metadata": {},
   "outputs": [],
   "source": [
    "def process_var(var, T, nq) -> Tuple[np.ndarray, np.ndarray]:\n",
    "    # [q_1, q_2, ..., q_T, tauq_3, tauq_4, ..., tauq_T-2]\n",
    "\n",
    "    # [ q1 , q2    q3  ,                       , qT-1, qT]\n",
    "    # [ -    - , tauq_3, tauq_4, ..., tauq_T-2 ,  -   -  ]\n",
    "    tq_unnormalized = var[:T * nq].reshape(T, nq) # tq =[q_1, q_2, ..., q_T]\n",
    "    ttauq = var[T * nq:] # ttauq = [tauq_3, tauq_4, ..., tauq_T-2]\n",
    "\n",
    "\n",
    "    # Get tq\n",
    "\n",
    "    # Normalize shoulder\n",
    "    shoulder_quaternion_unnormalized = tq_unnormalized[:, :4] # Shouler quaternion 4 premières valeurs de q\n",
    "\n",
    "    shoulder_quaternion_norm = np.linalg.norm(\n",
    "        shoulder_quaternion_unnormalized, \n",
    "        axis=1,\n",
    "        keepdims=True\n",
    "    )\n",
    "    \n",
    "    shoulder_quaternion_normalized = shoulder_quaternion_unnormalized / shoulder_quaternion_norm\n",
    "\n",
    "    # Normalize elbow\n",
    "    elbow_angle_unnormalized = tq_unnormalized[:, 4:].reshape(T, 2)\n",
    "\n",
    "    elbow_angle_norm = np.linalg.norm(\n",
    "        elbow_angle_unnormalized,\n",
    "        axis=1,\n",
    "        keepdims=True\n",
    "    )\n",
    "\n",
    "    elbow_angle_normalized = elbow_angle_unnormalized / elbow_angle_norm\n",
    "\n",
    "    tq = np.concatenate(\n",
    "        (\n",
    "            shoulder_quaternion_normalized, \n",
    "            elbow_angle_normalized\n",
    "        ), \n",
    "        axis=1\n",
    "    )\n",
    "    assert tq.shape == tq_unnormalized.shape\n",
    "\n",
    "    return tq, ttauq"
   ]
  },
  {
   "cell_type": "code",
   "execution_count": 98,
   "metadata": {},
   "outputs": [],
   "source": [
    "def get_velocity_acceleration(tq, T, nv, DT):\n",
    "\n",
    "    tvq = np.empty((T - 2, nv))\n",
    "    # nv=4\n",
    "\n",
    "    # Pourquoi ces opérations ne sont pas vectorizés dans pinocchio ...\n",
    "    for i in range(1, T - 1):\n",
    "        tvq[i - 1] = pin.difference(arm_robot.model, tq[i - 1], tq[i + 1]) / (2 * DT)\n",
    "\n",
    "    taq = (tvq[2:] - tvq[:-2]) / (2 * DT) \n",
    "\n",
    "    return tvq, taq"
   ]
  },
  {
   "cell_type": "code",
   "execution_count": 99,
   "metadata": {},
   "outputs": [],
   "source": [
    "def get_3D_pose_velocity_acceleration(tq, T, DT):\n",
    "    # [p_shoulder_1, p_elbow_1, p_wrist_1, ..., p_shoulder_T, p_elbow_T, p_wrist_T]\n",
    "\n",
    "    tshoulder_p = np.empty((T, 3))\n",
    "    telbow_p = np.empty((T, 3))\n",
    "    twrist_p = np.empty((T, 3))\n",
    "\n",
    "    for i in range(T):\n",
    "        # Forward kinematics\n",
    "        pin.framesForwardKinematics(arm_robot.model, arm_robot.data, tq[i])\n",
    "\n",
    "        # Predicted 3D points\n",
    "        tshoulder_p[i] = arm_robot.data.oMf[shoulder_frame_id].translation\n",
    "        telbow_p[i] = arm_robot.data.oMf[elbow_frame_id].translation\n",
    "        twrist_p[i] = arm_robot.data.oMf[wrist_frame_id].translation\n",
    "\n",
    "    # Computes speed and acceleration\n",
    "    tshoulder_v = (tshoulder_p[2:] - tshoulder_p[:-2]) / (2 * DT)\n",
    "    telbow_v = (telbow_p[2:] - telbow_p[:-2]) / (2 * DT)\n",
    "    twrist_v = (twrist_p[2:] - twrist_p[:-2]) / (2 * DT)\n",
    "\n",
    "    tshoulder_a = (tshoulder_v[2:] - tshoulder_v[:-2]) / (2 * DT)\n",
    "    telbow_a = (telbow_v[2:] - telbow_v[:-2]) / (2 * DT)\n",
    "    twrist_a = (twrist_v[2:] - twrist_v[:-2]) / (2 * DT)\n",
    "\n",
    "    data_pos3D = np.concatenate((tshoulder_p, telbow_p, twrist_p), axis=1).flatten()\n",
    "    velocity = np.concatenate(\n",
    "        (tshoulder_v, telbow_v, twrist_v), axis=0).flatten()\n",
    "    acceleration = np.concatenate(\n",
    "        (tshoulder_a, telbow_a, twrist_a), axis=0).flatten()\n",
    "    return data_pos3D, velocity, acceleration"
   ]
  },
  {
   "cell_type": "markdown",
   "metadata": {},
   "source": [
    "# Cost terms definitions"
   ]
  },
  {
   "cell_type": "code",
   "execution_count": 100,
   "metadata": {},
   "outputs": [],
   "source": [
    "# If the Lagrange dynamics formulation cannote be totally satisfied,\n",
    "# one can relax by minimizing the difference between:\n",
    "# - the Lagrange dynamics torques tau_rec predicited from q, vq and aq.\n",
    "# - the current predicted torques ttauq\n",
    "# question: why not also going backward in time ? ici middle point\n",
    "\n",
    "def full_body_dynamics(tq, tvq, taq, T, nv):\n",
    "    \n",
    "    ttau = np.empty((T - 4, nv))\n",
    "\n",
    "    for i in range(2, T - 2):\n",
    "        ttau[i - 2] = pin.rnea(arm_robot.model, arm_robot.data, tq[i], tvq[i - 1], taq[i - 2])\n",
    "\n",
    "    return ttau.flatten()"
   ]
  },
  {
   "cell_type": "code",
   "execution_count": 101,
   "metadata": {},
   "outputs": [],
   "source": [
    "# Build the cost function\n",
    "def objective(var, observed_p, T, nq, nv ,debug=False) -> np.ndarray:\n",
    "    tq, ttauq = process_var(var, T, nq)\n",
    "    tvq, taq = get_velocity_acceleration(tq, T, nv, DT)\n",
    "    tp, tv, ta = get_3D_pose_velocity_acceleration(tq, T, DT)\n",
    "    ttau = full_body_dynamics(tq, tvq, taq, T, nv)\n",
    "\n",
    "\n",
    "    if debug :\n",
    "        print(\"Diff between 3D pose :\", np.linalg.norm(observed_p - tp))\n",
    "        print(\"Smooth velocity :\", np.linalg.norm(tv))\n",
    "        print(\"Smooth acceleration :\", np.linalg.norm(ta))\n",
    "        print(\"Smooth torque :\", np.linalg.norm(ttauq))\n",
    "        print(\"Dynamics :\", np.linalg.norm(ttau - ttauq))\n",
    "\n",
    "    res_p = observed_p - tp\n",
    "    mask_p = np.abs(res_p) > 1\n",
    "    res_p[mask_p] = 2 * np.sqrt(np.abs(res_p[mask_p])) - 1\n",
    "\n",
    "    res = np.concatenate([\n",
    "        1.5 * (res_p), \n",
    "        #0.2 * tv,\n",
    "        #0.1 * ta,\n",
    "        0.6 * ttauq,\n",
    "        2 * (ttau - ttauq),\n",
    "    ])\n",
    "\n",
    "    return res"
   ]
  },
  {
   "cell_type": "markdown",
   "metadata": {},
   "source": [
    "# Optimization"
   ]
  },
  {
   "cell_type": "code",
   "execution_count": 102,
   "metadata": {},
   "outputs": [],
   "source": [
    "sol = least_squares(\n",
    "    objective, \n",
    "    initial, \n",
    "    args=(ground_truth_p, T, arm_robot.model.nq, arm_robot.model.nv), \n",
    "    method='lm'\n",
    ").x"
   ]
  },
  {
   "cell_type": "code",
   "execution_count": 103,
   "metadata": {},
   "outputs": [],
   "source": [
    "sol_q, sol_tau = process_var(sol, T, arm_robot.model.nq)"
   ]
  },
  {
   "cell_type": "code",
   "execution_count": 104,
   "metadata": {},
   "outputs": [],
   "source": [
    "for t in range(T):\n",
    "    viz.display(sol_q[t])\n",
    "    time.sleep(0.1)"
   ]
  },
  {
   "cell_type": "code",
   "execution_count": 105,
   "metadata": {},
   "outputs": [],
   "source": [
    "for t in range(T):\n",
    "    viz.display(q[t])\n",
    "    time.sleep(1e-1)"
   ]
  },
  {
   "cell_type": "code",
   "execution_count": null,
   "metadata": {},
   "outputs": [],
   "source": []
  }
 ],
 "metadata": {
  "kernelspec": {
   "display_name": "venv",
   "language": "python",
   "name": "python3"
  },
  "language_info": {
   "codemirror_mode": {
    "name": "ipython",
    "version": 3
   },
   "file_extension": ".py",
   "mimetype": "text/x-python",
   "name": "python",
   "nbconvert_exporter": "python",
   "pygments_lexer": "ipython3",
   "version": "3.10.12"
  }
 },
 "nbformat": 4,
 "nbformat_minor": 2
}
