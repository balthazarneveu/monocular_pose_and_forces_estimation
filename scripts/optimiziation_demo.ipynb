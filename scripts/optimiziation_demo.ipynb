{
 "cells": [
  {
   "cell_type": "code",
   "execution_count": 1,
   "metadata": {},
   "outputs": [],
   "source": [
    "%load_ext autoreload\n",
    "%autoreload 2"
   ]
  },
  {
   "cell_type": "code",
   "execution_count": 140,
   "metadata": {},
   "outputs": [],
   "source": [
    "import time \n",
    "\n",
    "import numpy as np\n",
    "import matplotlib.pyplot as plt\n",
    "from tqdm import tqdm\n",
    "import pinocchio as pin\n",
    "from scipy.optimize import least_squares\n",
    "from scipy.special import huber\n",
    "\n",
    "from projectyl.dynamics.armmodel import ArmRobot\n",
    "from projectyl.dynamics.meshcat_viewer_wrapper import MeshcatVisualizer"
   ]
  },
  {
   "cell_type": "code",
   "execution_count": 141,
   "metadata": {},
   "outputs": [],
   "source": [
    "arm_robot = ArmRobot(upper_arm_length=0.3, forearm_length=0.25)"
   ]
  },
  {
   "cell_type": "code",
   "execution_count": 142,
   "metadata": {},
   "outputs": [
    {
     "name": "stdout",
     "output_type": "stream",
     "text": [
      "You can open the visualizer by visiting the following URL:\n",
      "http://127.0.0.1:7001/static/\n"
     ]
    }
   ],
   "source": [
    "viz = MeshcatVisualizer(arm_robot)\n",
    "arm_robot.model.createData()\n",
    "viz.display(arm_robot.q0)"
   ]
  },
  {
   "cell_type": "markdown",
   "metadata": {},
   "source": [
    "TESTS arm moving, random constant acceleration"
   ]
  },
  {
   "cell_type": "code",
   "execution_count": 163,
   "metadata": {},
   "outputs": [],
   "source": [
    "q = arm_robot.q0.copy()\n",
    "vq = np.zeros(arm_robot.model.nv)\n",
    "aq = 5 * np.random.rand(arm_robot.model.nv)\n",
    "viz.display(q)\n",
    "DT = 1e-2\n",
    "\n",
    "T = 30\n",
    "\n",
    "rec_gt_sol = []\n",
    "rec_gt_p = []\n",
    "\n",
    "shoulder_joint_id = arm_robot.model.getJointId(\"shoulder\")\n",
    "elbow_joint_id = arm_robot.model.getJointId(\"elbow\")\n",
    "end_effector_frame_id = arm_robot.model.getFrameId(\"end_effector\")"
   ]
  },
  {
   "cell_type": "code",
   "execution_count": 164,
   "metadata": {},
   "outputs": [],
   "source": [
    "for _ in range(T):\n",
    "    vq += aq * DT\n",
    "    q = pin.integrate(arm_robot.model, q, vq * DT)\n",
    "    tauq = pin.rnea(arm_robot.model, arm_robot.data, q, vq, aq)\n",
    "\n",
    "    pin.framesForwardKinematics(arm_robot.model, arm_robot.data, q)\n",
    "    shoulder_p = arm_robot.data.oMi[shoulder_joint_id].translation\n",
    "    elbow_p = arm_robot.data.oMi[elbow_joint_id].translation\n",
    "    end_effector_p = arm_robot.data.oMf[end_effector_frame_id].translation\n",
    "\n",
    "    viz.display(q)\n",
    "\n",
    "    xuc = np.concatenate([q, vq, tauq])\n",
    "    rec_gt_sol.append(xuc)\n",
    "\n",
    "    p = np.concatenate([shoulder_p, elbow_p, end_effector_p])\n",
    "    rec_gt_p.append(p)\n",
    "    time.sleep(1e-2)"
   ]
  },
  {
   "cell_type": "code",
   "execution_count": 165,
   "metadata": {},
   "outputs": [],
   "source": [
    "gt_sol = np.vstack(rec_gt_sol)\n",
    "gt_p = np.vstack(rec_gt_p)"
   ]
  },
  {
   "cell_type": "code",
   "execution_count": 166,
   "metadata": {},
   "outputs": [],
   "source": [
    "def get_pose_velocity_from_state(tq_normalized, tvq, T):\n",
    "    rec_p = []\n",
    "    rec_v = []\n",
    "\n",
    "    for t in range(T):\n",
    "        q = tq_normalized[t]\n",
    "        vq = tvq[t]\n",
    "        \n",
    "        pin.forwardKinematics(arm_robot.model, arm_robot.data, q, vq)\n",
    "        pin.updateFramePlacements(arm_robot.model, arm_robot.data)\n",
    "        \n",
    "        shoulder_p = arm_robot.data.oMi[shoulder_joint_id].translation\n",
    "        elbow_p = arm_robot.data.oMi[elbow_joint_id].translation\n",
    "        end_effector_p = arm_robot.data.oMf[end_effector_frame_id].translation\n",
    "\n",
    "        shoulder_lv = arm_robot.data.v[shoulder_joint_id]\n",
    "        elbow_lv = arm_robot.data.v[elbow_joint_id]\n",
    "        \n",
    "        shoulder_v = arm_robot.data.oMi[shoulder_joint_id].act(shoulder_lv).linear\n",
    "        elbow_v = arm_robot.data.oMi[elbow_joint_id].act(elbow_lv).linear\n",
    "        end_effector_v = pin.getFrameVelocity(arm_robot.model, arm_robot.data, end_effector_frame_id, pin.ReferenceFrame.WORLD).linear\n",
    "\n",
    "        p = np.concatenate([shoulder_p, elbow_p, end_effector_p])\n",
    "        rec_p.append(p)\n",
    "\n",
    "        v = np.concatenate([shoulder_v, elbow_v, end_effector_v])\n",
    "        rec_v.append(v)\n",
    "\n",
    "    tp = np.vstack(rec_p)\n",
    "    tv = np.vstack(rec_v)\n",
    "\n",
    "    ta = (tv[1:] - tv[:-1]) / DT\n",
    "\n",
    "    return tp, tv, ta"
   ]
  },
  {
   "cell_type": "code",
   "execution_count": 167,
   "metadata": {},
   "outputs": [],
   "source": [
    "def diff_3D(tp, tp_observed):\n",
    "    diff = tp - tp_observed\n",
    "    diff = diff.flatten()\n",
    "\n",
    "    return diff"
   ]
  },
  {
   "cell_type": "code",
   "execution_count": 168,
   "metadata": {},
   "outputs": [],
   "source": [
    "def smooth_velocity_acceleration(tv, ta):\n",
    "\n",
    "    rv = tv.flatten()\n",
    "    ra = ta.flatten()\n",
    "\n",
    "    return np.concatenate([rv, ra])"
   ]
  },
  {
   "cell_type": "code",
   "execution_count": 169,
   "metadata": {},
   "outputs": [],
   "source": [
    "def smooth_torque(ttauq):\n",
    "    return ttauq.flatten()"
   ]
  },
  {
   "cell_type": "code",
   "execution_count": 170,
   "metadata": {},
   "outputs": [],
   "source": [
    "def full_body_dynamics(tq_normalized, tvq, taq, ttauq, T):\n",
    "    \n",
    "    tau_rec = []\n",
    "\n",
    "    for t in range(1, T):\n",
    "        tau = pin.rnea(arm_robot.model, arm_robot.data, tq_normalized[t], tvq[t], taq[t - 1])\n",
    "\n",
    "        tau_rec.append(tau)\n",
    "    \n",
    "    ttau = np.vstack(tau_rec)\n",
    "\n",
    "    diff = ttau - ttauq[1:]\n",
    "    diff = diff.flatten()\n",
    "\n",
    "    return diff"
   ]
  },
  {
   "cell_type": "code",
   "execution_count": 171,
   "metadata": {},
   "outputs": [],
   "source": [
    "def objective(txuc, tp_observed, T, debug=False):\n",
    "    txuc_r = txuc.reshape(T, -1)\n",
    "\n",
    "    tq = txuc_r[:, :arm_robot.model.nq]\n",
    "    norm_quat = np.linalg.norm(tq[:, :-1], axis=1, keepdims=True)\n",
    "    tq_normalized = tq.copy()\n",
    "    tq_normalized[:, :-1] /= norm_quat\n",
    "\n",
    "    tvq = txuc_r[:, arm_robot.model.nq: arm_robot.model.nq + arm_robot.model.nv]\n",
    "\n",
    "    taq = (tvq[1:] - tvq[:-1]) / DT\n",
    "\n",
    "    ttauq = txuc_r[:, arm_robot.model.nq + arm_robot.model.nv:]\n",
    "\n",
    "    tp, tv, ta = get_pose_velocity_from_state(tq_normalized, tvq, T)\n",
    "\n",
    "    # DEBUG\n",
    "    if debug:\n",
    "        print(\"3D joint positions\", np.linalg.norm(diff_3D(tp, tp_observed)))\n",
    "        print(\"Smooth velocity acceleration\", np.linalg.norm(smooth_velocity_acceleration(tv, ta)))\n",
    "        print(\"Smooth torque\", np.linalg.norm(smooth_torque(ttauq)))\n",
    "        print(\"Full body dynamics\", np.linalg.norm(full_body_dynamics(tq_normalized, tvq, taq, ttauq, T)))\n",
    "\n",
    "    res = np.concatenate([\n",
    "        diff_3D(tp, tp_observed),\n",
    "        0.1 * smooth_velocity_acceleration(tv, ta),\n",
    "        0.1 * smooth_torque(ttauq),\n",
    "        10 * full_body_dynamics(tq_normalized, tvq, taq, ttauq, T),\n",
    "    ])\n",
    "\n",
    "    return res"
   ]
  },
  {
   "cell_type": "code",
   "execution_count": 172,
   "metadata": {},
   "outputs": [],
   "source": [
    "q = gt_sol[:, :arm_robot.model.nq]\n",
    "\n",
    "initial = np.concatenate([q, np.zeros((T, 2 * arm_robot.model.nv))], axis=1)"
   ]
  },
  {
   "cell_type": "code",
   "execution_count": 173,
   "metadata": {},
   "outputs": [
    {
     "name": "stdout",
     "output_type": "stream",
     "text": [
      "(30, 13)\n"
     ]
    }
   ],
   "source": [
    "print(initial.shape)"
   ]
  },
  {
   "cell_type": "code",
   "execution_count": 174,
   "metadata": {},
   "outputs": [
    {
     "name": "stdout",
     "output_type": "stream",
     "text": [
      "(30, 13)\n"
     ]
    }
   ],
   "source": [
    "print(gt_sol.shape)"
   ]
  },
  {
   "cell_type": "code",
   "execution_count": 175,
   "metadata": {},
   "outputs": [],
   "source": [
    "sol = least_squares(objective, initial.flatten(), args=(gt_p, T)).x"
   ]
  },
  {
   "cell_type": "code",
   "execution_count": 176,
   "metadata": {},
   "outputs": [
    {
     "name": "stdout",
     "output_type": "stream",
     "text": [
      "29.213940625183607\n"
     ]
    }
   ],
   "source": [
    "print(np.linalg.norm(gt_sol.flatten()- sol.flatten()))"
   ]
  },
  {
   "cell_type": "code",
   "execution_count": 177,
   "metadata": {},
   "outputs": [],
   "source": [
    "res = sol.reshape(T, -1)"
   ]
  },
  {
   "cell_type": "code",
   "execution_count": 178,
   "metadata": {},
   "outputs": [
    {
     "name": "stdout",
     "output_type": "stream",
     "text": [
      "3D joint positions 0.022816546794363162\n",
      "Smooth velocity acceleration 0.11207147386582664\n",
      "Smooth torque 0.9375185324955524\n",
      "Full body dynamics 9.375156004570234e-05\n"
     ]
    },
    {
     "data": {
      "text/plain": [
       "0.0971415661979525"
      ]
     },
     "execution_count": 178,
     "metadata": {},
     "output_type": "execute_result"
    }
   ],
   "source": [
    "np.linalg.norm(objective(sol, gt_p, T, True))"
   ]
  },
  {
   "cell_type": "code",
   "execution_count": 179,
   "metadata": {},
   "outputs": [
    {
     "name": "stdout",
     "output_type": "stream",
     "text": [
      "3D joint positions 1.6697012885238947e-16\n",
      "Smooth velocity acceleration 32.961498482327684\n",
      "Smooth torque 27.680191993514953\n",
      "Full body dynamics 7.281050273043157e-15\n"
     ]
    },
    {
     "data": {
      "text/plain": [
       "4.304246055929354"
      ]
     },
     "execution_count": 179,
     "metadata": {},
     "output_type": "execute_result"
    }
   ],
   "source": [
    "np.linalg.norm(objective(gt_sol.flatten(), gt_p, T, True))"
   ]
  },
  {
   "cell_type": "code",
   "execution_count": 182,
   "metadata": {},
   "outputs": [
    {
     "name": "stdout",
     "output_type": "stream",
     "text": [
      "(30, 5)\n"
     ]
    }
   ],
   "source": [
    "tq = res[:, :arm_robot.model.nq]\n",
    "print(tq.shape)\n",
    "norm_quat = np.linalg.norm(tq[:, :-1], axis=1, keepdims=True)\n",
    "tq_normalized = tq.copy()\n",
    "tq_normalized[:, :-1] /= norm_quat\n",
    "\n",
    "tvq = res[:, arm_robot.model.nq: arm_robot.model.nq + arm_robot.model.nv]\n",
    "\n",
    "\n",
    "ttauq = res[:, arm_robot.model.nq + arm_robot.model.nv:]"
   ]
  },
  {
   "cell_type": "code",
   "execution_count": 201,
   "metadata": {},
   "outputs": [],
   "source": [
    "for t in range(T):\n",
    "\n",
    "    viz.display(tq_normalized[t])\n",
    "\n",
    "    time.sleep(1e-2)"
   ]
  },
  {
   "cell_type": "code",
   "execution_count": 202,
   "metadata": {},
   "outputs": [],
   "source": [
    "for t in range(T):\n",
    "    viz.display(gt_sol[t, :arm_robot.model.nq])\n",
    "    time.sleep(1e-2)"
   ]
  },
  {
   "cell_type": "code",
   "execution_count": null,
   "metadata": {},
   "outputs": [],
   "source": []
  }
 ],
 "metadata": {
  "kernelspec": {
   "display_name": "venv",
   "language": "python",
   "name": "python3"
  },
  "language_info": {
   "codemirror_mode": {
    "name": "ipython",
    "version": 3
   },
   "file_extension": ".py",
   "mimetype": "text/x-python",
   "name": "python",
   "nbconvert_exporter": "python",
   "pygments_lexer": "ipython3",
   "version": "3.10.12"
  }
 },
 "nbformat": 4,
 "nbformat_minor": 2
}
