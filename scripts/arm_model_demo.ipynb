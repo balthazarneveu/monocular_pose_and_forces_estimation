{
 "cells": [
  {
   "cell_type": "code",
   "execution_count": null,
   "metadata": {},
   "outputs": [],
   "source": [
    "%load_ext autoreload\n",
    "%autoreload 2"
   ]
  },
  {
   "cell_type": "code",
   "execution_count": null,
   "metadata": {},
   "outputs": [],
   "source": [
    "import time \n",
    "\n",
    "import numpy as np\n",
    "import pinocchio as pin\n",
    "from tqdm import tqdm\n",
    "\n",
    "from projectyl.dynamics.armmodel import ArmRobot\n",
    "from projectyl.dynamics.meshcat_viewer_wrapper import MeshcatVisualizer"
   ]
  },
  {
   "cell_type": "markdown",
   "metadata": {},
   "source": [
    "Let's create a robot arm"
   ]
  },
  {
   "cell_type": "code",
   "execution_count": null,
   "metadata": {},
   "outputs": [],
   "source": [
    "arm_robot = ArmRobot(upper_arm_length=0.3, forearm_length=0.25)"
   ]
  },
  {
   "cell_type": "code",
   "execution_count": null,
   "metadata": {},
   "outputs": [],
   "source": [
    "viz = MeshcatVisualizer(arm_robot)\n",
    "viz.display(arm_robot.q0)"
   ]
  },
  {
   "cell_type": "code",
   "execution_count": null,
   "metadata": {},
   "outputs": [],
   "source": [
    "# Iterate through all the joints in the robot's model\n",
    "for i in range(arm_robot.model.njoints):\n",
    "    joint_name = arm_robot.model.names[i]\n",
    "    joint_model = arm_robot.model.joints[i]\n",
    "\n",
    "    joint_type = joint_model.shortname()\n",
    "\n",
    "    parent_joint_id = arm_robot.model.parents[i]\n",
    "    parent_joint_name = arm_robot.model.names[parent_joint_id]\n",
    "\n",
    "    # Print joint information\n",
    "    print(\"Joint ID:\", i)\n",
    "    print(\"Joint Name:\", joint_name)\n",
    "    print(\"Joint Type:\", joint_type)\n",
    "    print(\"Parent Joint ID:\", parent_joint_id)\n",
    "    print(\"Parent Joint Name:\", parent_joint_name)\n",
    "    print()"
   ]
  },
  {
   "cell_type": "code",
   "execution_count": null,
   "metadata": {},
   "outputs": [],
   "source": [
    "# Iterate through all the frames in the robot's model\n",
    "for i in range(len(arm_robot.model.frames)):\n",
    "    frame = arm_robot.model.frames[i]\n",
    "    parent_joint_id = frame.parent\n",
    "    parent_joint_name = arm_robot.model.names[parent_joint_id]\n",
    "    print(\"Frame ID:\", i)\n",
    "    print(\"Frame Name:\", frame.name)\n",
    "    print(\"Frame Type:\", frame.type)\n",
    "    print(\"Parent Joint ID:\", parent_joint_id)\n",
    "    print(\"Parent Joint name:\", parent_joint_name)\n",
    "    print()"
   ]
  },
  {
   "cell_type": "code",
   "execution_count": null,
   "metadata": {},
   "outputs": [],
   "source": [
    "print(\"Initial configuration:\", arm_robot.q0)\n",
    "print(\"Config dim:\", arm_robot.nq)\n",
    "print(\"DoF:\", arm_robot.nv)"
   ]
  },
  {
   "cell_type": "markdown",
   "metadata": {},
   "source": [
    "Test : Random configuration"
   ]
  },
  {
   "cell_type": "code",
   "execution_count": null,
   "metadata": {},
   "outputs": [],
   "source": [
    "for _ in range(100):\n",
    "    q = pin.randomConfiguration(arm_robot.model)\n",
    "    viz.display(q)\n",
    "    time.sleep(1e-2)"
   ]
  },
  {
   "cell_type": "markdown",
   "metadata": {},
   "source": [
    "Test: Forward Kinematics"
   ]
  },
  {
   "cell_type": "code",
   "execution_count": null,
   "metadata": {},
   "outputs": [],
   "source": [
    "q = pin.randomConfiguration(arm_robot.model)\n",
    "pin.framesForwardKinematics(arm_robot.model, arm_robot.data, q)\n",
    "\n",
    "viz.display(q)"
   ]
  },
  {
   "cell_type": "code",
   "execution_count": null,
   "metadata": {},
   "outputs": [],
   "source": [
    "for i in range(arm_robot.model.njoints):\n",
    "    joint_name = arm_robot.model.names[i]\n",
    "    joint_position = arm_robot.data.oMi[i]\n",
    "    print(\"Joint Name:\", joint_name)\n",
    "    print(\"Joint Position in World Frame:\", joint_position)\n",
    "    print()\n"
   ]
  },
  {
   "cell_type": "code",
   "execution_count": null,
   "metadata": {},
   "outputs": [],
   "source": [
    "for i in range(len(arm_robot.model.frames)):\n",
    "    frame = arm_robot.model.frames[i]\n",
    "    frame_placement = arm_robot.data.oMf[i]\n",
    "    print(\"Frame Name:\", frame.name)\n",
    "    print(\"Frame Position in World Frame:\", frame_placement)\n",
    "    print()"
   ]
  },
  {
   "cell_type": "code",
   "execution_count": null,
   "metadata": {},
   "outputs": [],
   "source": [
    "# Test: confirm the position of the end effector relative to the elbow\n",
    "elbow_id = arm_robot.model.getFrameId(\"elbow\")\n",
    "wrist_id = arm_robot.model.getFrameId(\"wrist\")\n",
    "\n",
    "elbow_transform = arm_robot.data.oMf[elbow_id]\n",
    "wrist_transform = arm_robot.data.oMf[wrist_id]\n",
    "\n",
    "relative_transform = elbow_transform.inverse() * wrist_transform\n",
    "print(\"Relative position of the end effector with respect to the elbow, computed:\", relative_transform)\n",
    "print(\"Real value:\", arm_robot.model.frames[wrist_id].placement)"
   ]
  },
  {
   "cell_type": "markdown",
   "metadata": {},
   "source": [
    "Test: Inverse Kinematics"
   ]
  },
  {
   "cell_type": "code",
   "execution_count": null,
   "metadata": {},
   "outputs": [],
   "source": [
    "# Create first a target\n",
    "q = pin.randomConfiguration(arm_robot.model)\n",
    "pin.framesForwardKinematics(arm_robot.model, arm_robot.data, q)\n",
    "\n",
    "target_position_end_effector = arm_robot.data.oMf[wrist_id].copy()"
   ]
  },
  {
   "cell_type": "code",
   "execution_count": null,
   "metadata": {},
   "outputs": [],
   "source": [
    "# Print the target\n",
    "viz.addBox(\"goal\", [.1, .1, .1], [.1, .1, .5, .6])\n",
    "viz.applyConfiguration(\"goal\", target_position_end_effector)"
   ]
  },
  {
   "cell_type": "code",
   "execution_count": null,
   "metadata": {},
   "outputs": [],
   "source": [
    "# Robot initial position\n",
    "q0 = arm_robot.q0\n",
    "DT = 1e-2\n",
    "viz.display(q0)"
   ]
  },
  {
   "cell_type": "code",
   "execution_count": null,
   "metadata": {},
   "outputs": [],
   "source": [
    "q = q0.copy()\n",
    "\n",
    "for i in tqdm(range(500)):\n",
    "\n",
    "    # end effector frame\n",
    "    pin.framesForwardKinematics(arm_robot.model, arm_robot.data, q)\n",
    "    oMeffector = arm_robot.data.oMf[wrist_id]\n",
    "\n",
    "    # Displacement between F_effector and F_goal\n",
    "    effectorMgoal = oMeffector.inverse() * target_position_end_effector\n",
    "\n",
    "    # error between the two\n",
    "    effector_nu = pin.log(effectorMgoal).vector\n",
    "\n",
    "    # Jacobian in the effector frame\n",
    "    effector_Jeffector = pin.computeFrameJacobian(arm_robot.model, arm_robot.data, q, wrist_id, pin.LOCAL)\n",
    "\n",
    "    # Control law\n",
    "    vq = np.linalg.pinv(effector_Jeffector) @ effector_nu\n",
    "\n",
    "    # Integrate\n",
    "    q = pin.integrate(arm_robot.model, q, vq*DT)\n",
    "\n",
    "    viz.display(q)\n",
    "    time.sleep(1e-3)"
   ]
  },
  {
   "cell_type": "code",
   "execution_count": null,
   "metadata": {},
   "outputs": [],
   "source": [
    "# remove target\n",
    "viz.delete(\"goal\")"
   ]
  },
  {
   "cell_type": "markdown",
   "metadata": {},
   "source": [
    "Test: Forward dynamics"
   ]
  },
  {
   "cell_type": "code",
   "execution_count": null,
   "metadata": {},
   "outputs": [],
   "source": [
    "# Random position, speed and torques of the robot\n",
    "q = pin.randomConfiguration(arm_robot.model)\n",
    "vq = np.random.rand(arm_robot.model.nv)\n",
    "tauq = np.random.rand(arm_robot.model.nv)\n",
    "\n",
    "print(\"Initial joint position:\", q)\n",
    "print(\"Initial joint velocity:\", vq)\n",
    "print(\"Initial torques\")\n",
    "\n",
    "\n",
    "b = pin.nle(arm_robot.model, arm_robot.data, q, vq)\n",
    "M = pin.crba(arm_robot.model, arm_robot.data, q)\n",
    "print(\"Mass matrix of the robot:\\n\", M)\n",
    "print(\"Nonlinear effects\", b)\n",
    "\n",
    "aq = np.linalg.solve(M, tauq - b)\n",
    "print(\"Accelleration\", aq)\n",
    "\n",
    "print(\"Tests (should be 0)\", \n",
    "    np.linalg.norm(pin.rnea(arm_robot.model, arm_robot.data, q, vq, aq) - tauq),\n",
    "    np.linalg.norm(pin.rnea(arm_robot.model, arm_robot.data, q, vq, np.zeros(arm_robot.model.nv)) - b)  \n",
    ")"
   ]
  },
  {
   "cell_type": "code",
   "execution_count": null,
   "metadata": {},
   "outputs": [],
   "source": [
    "# Robot initial position\n",
    "q0 = arm_robot.q0.copy()\n",
    "q0[4:] = pin.randomConfiguration(arm_robot.model)[4:] # For more fun\n",
    "DT = 1e-2\n",
    "Kf = 0.1 # friction\n",
    "viz.display(q0)"
   ]
  },
  {
   "cell_type": "code",
   "execution_count": null,
   "metadata": {},
   "outputs": [],
   "source": [
    "# Free fall \n",
    "q = q0.copy()\n",
    "vq = np.zeros(arm_robot.model.nv)\n",
    "tauq = np.zeros(arm_robot.model.nv)\n",
    "\n",
    "for i in tqdm(range(1000)):\n",
    "\n",
    "    # Compute mass and non linear effects\n",
    "    M = pin.crba(arm_robot.model, arm_robot.data, q)\n",
    "    b = pin.nle(arm_robot.model, arm_robot.data, q, vq)\n",
    "\n",
    "    # Compute accelleration\n",
    "    aq = np.linalg.solve(M, tauq - b)\n",
    "\n",
    "    # Integrate acceleration and speed\n",
    "    vq += aq * DT\n",
    "    q = pin.integrate(arm_robot.model, q, vq * DT)\n",
    "\n",
    "    # Update torque (friction)\n",
    "    tauq = - Kf * vq\n",
    "\n",
    "\n",
    "    viz.display(q)\n",
    "    time.sleep(1e-3)"
   ]
  },
  {
   "cell_type": "code",
   "execution_count": null,
   "metadata": {},
   "outputs": [],
   "source": []
  }
 ],
 "metadata": {
  "kernelspec": {
   "display_name": "venv",
   "language": "python",
   "name": "python3"
  },
  "language_info": {
   "codemirror_mode": {
    "name": "ipython",
    "version": 3
   },
   "file_extension": ".py",
   "mimetype": "text/x-python",
   "name": "python",
   "nbconvert_exporter": "python",
   "pygments_lexer": "ipython3",
   "version": "3.10.12"
  }
 },
 "nbformat": 4,
 "nbformat_minor": 2
}
