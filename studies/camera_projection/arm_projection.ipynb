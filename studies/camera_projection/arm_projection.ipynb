{
 "cells": [
  {
   "cell_type": "markdown",
   "metadata": {},
   "source": [
    "### How to project the 3D arm onto the camera plane?"
   ]
  },
  {
   "cell_type": "code",
   "execution_count": 1,
   "metadata": {},
   "outputs": [],
   "source": [
    "from projectyl.dynamics.armmodel import ArmRobot\n",
    "from projectyl.dynamics.meshcat_viewer_wrapper import MeshcatVisualizer\n",
    "from projectyl.utils.camera_projection import project_3D_point, get_intrinic_matrix, get_4D_homogeneous_vector, get_focal_from_full_frame_equivalent, rescale_focal\n",
    "from projectyl.dynamics.inverse_kinematics import forward_kinematics\n",
    "import cv2 as cv\n",
    "import matplotlib.pyplot as plt\n",
    "import pinocchio as pin\n",
    "import numpy as np\n",
    "from projectyl.utils.properties import COLOR, POSITION, SIZE, ELBOW, SHOULDER, WRIST\n",
    "%load_ext autoreload\n",
    "%autoreload 2\n",
    "def make_a_scene_in_3D(object_list, viz: MeshcatVisualizer = None) -> MeshcatVisualizer:\n",
    "    \"\"\"Make the 3D scene with the given objects in Meshcat\n",
    "\n",
    "    Args:\n",
    "        object_list (List[dict]): _description_\n",
    "        viz (MeshcatVisualizer, optional): _description_. Defaults to None.\n",
    "    \"\"\"\n",
    "    if viz is None:\n",
    "        viz = MeshcatVisualizer()\n",
    "    for name, obj in object_list.items():\n",
    "        viz.addBox(\n",
    "            name,\n",
    "            obj[SIZE],\n",
    "            obj[COLOR]\n",
    "        )\n",
    "        viz.applyConfiguration(name, pin.SE3(np.eye(3), np.array(obj[POSITION])))\n",
    "    return viz\n"
   ]
  },
  {
   "cell_type": "code",
   "execution_count": 2,
   "metadata": {},
   "outputs": [
    {
     "name": "stdout",
     "output_type": "stream",
     "text": [
      "You can open the visualizer by visiting the following URL:\n",
      "http://127.0.0.1:7014/static/\n"
     ]
    }
   ],
   "source": [
    "arm = ArmRobot(0.35, 0.3)\n",
    "viz = MeshcatVisualizer(robot=arm)\n",
    "viz.display(arm.q0)"
   ]
  },
  {
   "cell_type": "code",
   "execution_count": 3,
   "metadata": {},
   "outputs": [],
   "source": [
    "q = pin.randomConfiguration(arm.model)\n",
    "viz.display(q)"
   ]
  },
  {
   "cell_type": "code",
   "execution_count": 4,
   "metadata": {},
   "outputs": [
    {
     "data": {
      "text/plain": [
       "<projectyl.dynamics.meshcat_viewer_wrapper.visualizer.MeshcatVisualizer at 0x7f0788363070>"
      ]
     },
     "execution_count": 4,
     "metadata": {},
     "output_type": "execute_result"
    }
   ],
   "source": [
    "object_list = {\n",
    "    CAMERA: {\n",
    "        COLOR: [1., 0.5, 0.5, 1.],\n",
    "        POSITION: [0.1, -1.6, 0.8],\n",
    "        SIZE: [0.05, 0.2, 0.05]\n",
    "    }\n",
    "}\n",
    "make_a_scene_in_3D(object_list, viz)"
   ]
  },
  {
   "cell_type": "code",
   "execution_count": 5,
   "metadata": {},
   "outputs": [],
   "source": [
    "w, h = 1920, 1080 # Full HD 1080p\n",
    "fpix = rescale_focal(\n",
    "    fpix=get_focal_from_full_frame_equivalent(), \n",
    "    w_resized=1920\n",
    ")\n",
    "k = get_intrinic_matrix((h, w), fpix)\n",
    "\n",
    "extrinsic_matrix = np.zeros((3, 4))\n",
    "extrinsic_matrix[:3, :3] = np.eye(3)\n",
    "cam_pos = get_4D_homogeneous_vector(object_list[CAMERA][POSITION])\n",
    "extrinsic_matrix[:3, -1] = -cam_pos[:3, 0]\n"
   ]
  },
  {
   "cell_type": "code",
   "execution_count": 6,
   "metadata": {},
   "outputs": [],
   "source": [
    "p2d_list = {}\n",
    "colors = [(255, 0, 0), (0, 255, 0), (0, 0, 255)]\n",
    "for frame_idx, frame in enumerate([SHOULDER, ELBOW, WRIST]):\n",
    "    point, jac = forward_kinematics(arm, q, frame=frame)\n",
    "    p3d = point.translation\n",
    "    p2d = project_3D_point(p3d, k, extrinsic_matrix)\n",
    "    p2d_list[frame] = {\"2d\": p2d, COLOR: colors[frame_idx]}"
   ]
  },
  {
   "cell_type": "code",
   "execution_count": 7,
   "metadata": {},
   "outputs": [
    {
     "data": {
      "image/png": "[encoded data removed]",
      "text/plain": [
       "<Figure size 1000x1000 with 1 Axes>"
      ]
     },
     "metadata": {},
     "output_type": "display_data"
    }
   ],
   "source": [
    "import cv2 as cv\n",
    "import matplotlib.pyplot as plt\n",
    "plt.figure(figsize=(10, 10))\n",
    "img = 10*np.ones((h, w, 3))  # 720p frame\n",
    "cv.line(img, (0, h//2), (w, h//2), (255, 255, 255), 2)\n",
    "cv.line(img, (w//2, 0), (w//2, h), (255, 255, 255), 2)\n",
    "cv.circle(img, (w//2, h//2), 5, (255, 0, 0), -1)\n",
    "for frame_idx, frame in enumerate(p2d_list):\n",
    "    p2d = p2d_list[frame][\"2d\"]\n",
    "    cv.circle(img, (int(p2d[0]), int(p2d[1])), 20, p2d_list[frame][COLOR], -1)\n",
    "    cv.putText(\n",
    "            img,\n",
    "            f\"{frame}\",\n",
    "            (int(p2d[0]+5), int(p2d[1])-20),\n",
    "            cv.FONT_HERSHEY_SIMPLEX,\n",
    "            1,\n",
    "            p2d_list[frame][COLOR],\n",
    "            2,\n",
    "            cv.LINE_AA\n",
    "    )\n",
    "    if frame_idx>0:\n",
    "        p2d_prev = p2d_list[list(p2d_list.keys())[frame_idx-1]][\"2d\"]\n",
    "        cv.line(\n",
    "            img,\n",
    "            (int(p2d[0]), int(p2d[1])),\n",
    "            (int(p2d_prev[0]), int(p2d_prev[1])),\n",
    "            p2d_list[frame][COLOR], 2\n",
    "        )\n",
    "\n",
    "img = img.clip(0, 255).astype(np.uint8)\n",
    "plt.title(\"Arm projection on the camera\")\n",
    "plt.imshow(img)\n",
    "plt.show()"
   ]
  }
 ],
 "metadata": {
  "kernelspec": {
   "display_name": "robotics",
   "language": "python",
   "name": "python3"
  },
  "language_info": {
   "codemirror_mode": {
    "name": "ipython",
    "version": 3
   },
   "file_extension": ".py",
   "mimetype": "text/x-python",
   "name": "python",
   "nbconvert_exporter": "python",
   "pygments_lexer": "ipython3",
   "version": "3.10.12"
  }
 },
 "nbformat": 4,
 "nbformat_minor": 2
}
